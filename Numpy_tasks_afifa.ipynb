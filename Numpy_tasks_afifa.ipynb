{
  "cells": [
    {
      "cell_type": "markdown",
      "metadata": {
        "id": "Hn-H0SuhWkev"
      },
      "source": [
        "# Numpy\n",
        "\n"
      ]
    },
    {
      "cell_type": "markdown",
      "metadata": {
        "id": "3zQ8L7XhWke1"
      },
      "source": [
        "#### 1. Import the numpy package under the name `np` (★☆☆) \n",
        "(**hint**: import … as …)"
      ]
    },
    {
      "cell_type": "code",
      "execution_count": null,
      "metadata": {
        "collapsed": true,
        "id": "s_Q0uafZWke3"
      },
      "outputs": [],
      "source": [
        "import numpy as np\n"
      ]
    },
    {
      "cell_type": "markdown",
      "metadata": {
        "id": "AY8Inn0cWke4"
      },
      "source": [
        "#### 2. Print the numpy version and the configuration (★☆☆) \n",
        "(**hint**: np.\\_\\_version\\_\\_, np.show\\_config)"
      ]
    },
    {
      "cell_type": "code",
      "execution_count": null,
      "metadata": {
        "id": "K_SVrTYXWke5",
        "colab": {
          "base_uri": "https://localhost:8080/"
        },
        "outputId": "b1071e03-3133-419b-a0ce-94092d3164a8"
      },
      "outputs": [
        {
          "output_type": "stream",
          "name": "stdout",
          "text": [
            "blas_mkl_info:\n",
            "  NOT AVAILABLE\n",
            "blis_info:\n",
            "  NOT AVAILABLE\n",
            "openblas_info:\n",
            "    libraries = ['openblas', 'openblas']\n",
            "    library_dirs = ['/usr/local/lib']\n",
            "    language = c\n",
            "    define_macros = [('HAVE_CBLAS', None)]\n",
            "    runtime_library_dirs = ['/usr/local/lib']\n",
            "blas_opt_info:\n",
            "    libraries = ['openblas', 'openblas']\n",
            "    library_dirs = ['/usr/local/lib']\n",
            "    language = c\n",
            "    define_macros = [('HAVE_CBLAS', None)]\n",
            "    runtime_library_dirs = ['/usr/local/lib']\n",
            "lapack_mkl_info:\n",
            "  NOT AVAILABLE\n",
            "openblas_lapack_info:\n",
            "    libraries = ['openblas', 'openblas']\n",
            "    library_dirs = ['/usr/local/lib']\n",
            "    language = c\n",
            "    define_macros = [('HAVE_CBLAS', None)]\n",
            "    runtime_library_dirs = ['/usr/local/lib']\n",
            "lapack_opt_info:\n",
            "    libraries = ['openblas', 'openblas']\n",
            "    library_dirs = ['/usr/local/lib']\n",
            "    language = c\n",
            "    define_macros = [('HAVE_CBLAS', None)]\n",
            "    runtime_library_dirs = ['/usr/local/lib']\n",
            "Supported SIMD extensions in this NumPy install:\n",
            "    baseline = SSE,SSE2,SSE3\n",
            "    found = SSSE3,SSE41,POPCNT,SSE42,AVX,F16C,FMA3,AVX2\n",
            "    not found = AVX512F,AVX512CD,AVX512_KNL,AVX512_KNM,AVX512_SKX,AVX512_CLX,AVX512_CNL,AVX512_ICL\n"
          ]
        }
      ],
      "source": [
        "np.__version__\n",
        "np.show_config()"
      ]
    },
    {
      "cell_type": "markdown",
      "metadata": {
        "id": "78LdLJZcWke5"
      },
      "source": [
        "#### 3. Create a null vector of size 10 (★☆☆) \n",
        "(**hint**: np.zeros)"
      ]
    },
    {
      "cell_type": "code",
      "execution_count": null,
      "metadata": {
        "id": "-SfirqwyWke7",
        "colab": {
          "base_uri": "https://localhost:8080/"
        },
        "outputId": "482088c9-618c-49bd-972d-6d3dd3330b84"
      },
      "outputs": [
        {
          "output_type": "execute_result",
          "data": {
            "text/plain": [
              "array([0., 0., 0., 0., 0., 0., 0., 0., 0., 0.])"
            ]
          },
          "metadata": {},
          "execution_count": 4
        }
      ],
      "source": [
        "np.zeros(10)"
      ]
    },
    {
      "cell_type": "markdown",
      "metadata": {
        "id": "nEsp39GWWke9"
      },
      "source": [
        "#### 4.  How to find the memory size of any array (★☆☆) \n",
        "(**hint**: size, itemsize)"
      ]
    },
    {
      "cell_type": "code",
      "execution_count": null,
      "metadata": {
        "id": "SzCPFpLcWke-",
        "colab": {
          "base_uri": "https://localhost:8080/"
        },
        "outputId": "51ed4936-7c3e-469b-be50-eb78f8431f20"
      },
      "outputs": [
        {
          "output_type": "stream",
          "name": "stdout",
          "text": [
            "size of array is 4\n",
            "item size of array is  8\n",
            "memory size of array i byte is  32\n"
          ]
        }
      ],
      "source": [
        "a = np.array([10,20,30,40])\n",
        "print (\"size of array is\",a.size)\n",
        "print (\"item size of array is \",a.itemsize)\n",
        "print (\"memory size of array i byte is \" ,a.size* a.itemsize)"
      ]
    },
    {
      "cell_type": "markdown",
      "metadata": {
        "id": "NDdkKQQWWke_"
      },
      "source": [
        "#### 5.  How to get the documentation of the numpy add function from the command line? (★☆☆) \n",
        "(**hint**: np.info)"
      ]
    },
    {
      "cell_type": "code",
      "execution_count": null,
      "metadata": {
        "collapsed": true,
        "id": "-l3e_hvyWke_",
        "colab": {
          "base_uri": "https://localhost:8080/"
        },
        "outputId": "72dee7ee-e0d9-46d4-d1cb-3d4a3e2f5c75"
      },
      "outputs": [
        {
          "output_type": "stream",
          "name": "stdout",
          "text": [
            "add(x1, x2, /, out=None, *, where=True, casting='same_kind', order='K', dtype=None, subok=True[, signature, extobj])\n",
            "\n",
            "Add arguments element-wise.\n",
            "\n",
            "Parameters\n",
            "----------\n",
            "x1, x2 : array_like\n",
            "    The arrays to be added.\n",
            "    If ``x1.shape != x2.shape``, they must be broadcastable to a common\n",
            "    shape (which becomes the shape of the output).\n",
            "out : ndarray, None, or tuple of ndarray and None, optional\n",
            "    A location into which the result is stored. If provided, it must have\n",
            "    a shape that the inputs broadcast to. If not provided or None,\n",
            "    a freshly-allocated array is returned. A tuple (possible only as a\n",
            "    keyword argument) must have length equal to the number of outputs.\n",
            "where : array_like, optional\n",
            "    This condition is broadcast over the input. At locations where the\n",
            "    condition is True, the `out` array will be set to the ufunc result.\n",
            "    Elsewhere, the `out` array will retain its original value.\n",
            "    Note that if an uninitialized `out` array is created via the default\n",
            "    ``out=None``, locations within it where the condition is False will\n",
            "    remain uninitialized.\n",
            "**kwargs\n",
            "    For other keyword-only arguments, see the\n",
            "    :ref:`ufunc docs <ufuncs.kwargs>`.\n",
            "\n",
            "Returns\n",
            "-------\n",
            "add : ndarray or scalar\n",
            "    The sum of `x1` and `x2`, element-wise.\n",
            "    This is a scalar if both `x1` and `x2` are scalars.\n",
            "\n",
            "Notes\n",
            "-----\n",
            "Equivalent to `x1` + `x2` in terms of array broadcasting.\n",
            "\n",
            "Examples\n",
            "--------\n",
            ">>> np.add(1.0, 4.0)\n",
            "5.0\n",
            ">>> x1 = np.arange(9.0).reshape((3, 3))\n",
            ">>> x2 = np.arange(3.0)\n",
            ">>> np.add(x1, x2)\n",
            "array([[  0.,   2.,   4.],\n",
            "       [  3.,   5.,   7.],\n",
            "       [  6.,   8.,  10.]])\n",
            "\n",
            "The ``+`` operator can be used as a shorthand for ``np.add`` on ndarrays.\n",
            "\n",
            ">>> x1 = np.arange(9.0).reshape((3, 3))\n",
            ">>> x2 = np.arange(3.0)\n",
            ">>> x1 + x2\n",
            "array([[ 0.,  2.,  4.],\n",
            "       [ 3.,  5.,  7.],\n",
            "       [ 6.,  8., 10.]])\n",
            "None\n"
          ]
        }
      ],
      "source": [
        "print(np.info(np.add))\n",
        "        "
      ]
    },
    {
      "cell_type": "markdown",
      "metadata": {
        "id": "cpar4_x1WkfA"
      },
      "source": [
        "#### 6.  Create a null vector of size 10 but the fifth value which is 1 (★☆☆) \n",
        "(**hint**: array\\[4\\])"
      ]
    },
    {
      "cell_type": "code",
      "execution_count": null,
      "metadata": {
        "id": "3NcQPk06WkfB",
        "colab": {
          "base_uri": "https://localhost:8080/"
        },
        "outputId": "9fa86c8d-ab37-48fe-b08c-a1324ab358b2"
      },
      "outputs": [
        {
          "output_type": "execute_result",
          "data": {
            "text/plain": [
              "array([0., 0., 0., 0., 1., 0., 0., 0., 0., 0.])"
            ]
          },
          "metadata": {},
          "execution_count": 7
        }
      ],
      "source": [
        "x = np.zeros(10)\n",
        "x[4] = 1\n",
        "x"
      ]
    },
    {
      "cell_type": "markdown",
      "metadata": {
        "id": "Jr34SN15WkfB"
      },
      "source": [
        "#### 7.  Create a vector with values ranging from 10 to 49 (★☆☆) \n",
        "(**hint**: np.arange)"
      ]
    },
    {
      "cell_type": "code",
      "execution_count": null,
      "metadata": {
        "id": "0HE_o6BTWkfC",
        "colab": {
          "base_uri": "https://localhost:8080/"
        },
        "outputId": "340bd674-1cab-41d1-a29f-eb8e5b9bd468"
      },
      "outputs": [
        {
          "output_type": "stream",
          "name": "stdout",
          "text": [
            "[10 11 12 13 14 15 16 17 18 19 20 21 22 23 24 25 26 27 28 29 30 31 32 33\n",
            " 34 35 36 37 38 39 40 41 42 43 44 45 46 47 48 49]\n"
          ]
        }
      ],
      "source": [
        "x = np.arange(10,50)\n",
        "print(x)"
      ]
    },
    {
      "cell_type": "markdown",
      "metadata": {
        "id": "TJ5YJfv9WkfD"
      },
      "source": [
        "#### 8.  Reverse a vector (first element becomes last) (★☆☆) \n",
        "(**hint**: array\\[::-1\\])"
      ]
    },
    {
      "cell_type": "code",
      "execution_count": null,
      "metadata": {
        "id": "5Qdl2PkZWkfF",
        "colab": {
          "base_uri": "https://localhost:8080/"
        },
        "outputId": "281b2494-ab21-4ae5-8226-5032b4240acb"
      },
      "outputs": [
        {
          "output_type": "stream",
          "name": "stdout",
          "text": [
            "[50 40 30 20 10]\n"
          ]
        }
      ],
      "source": [
        "a = np.array([10,20,30,40,50])\n",
        "print (a[::-1])"
      ]
    },
    {
      "cell_type": "markdown",
      "metadata": {
        "id": "z3LG-P3JWkfF"
      },
      "source": [
        "#### 9.  Create a 3x3 matrix with values ranging from 0 to 8 (★☆☆) \n",
        "(**hint**: reshape)"
      ]
    },
    {
      "cell_type": "code",
      "execution_count": null,
      "metadata": {
        "id": "OO28vkNvWkfG",
        "colab": {
          "base_uri": "https://localhost:8080/"
        },
        "outputId": "be902466-a0bd-46ce-ca94-70d612c4bd03"
      },
      "outputs": [
        {
          "output_type": "stream",
          "name": "stdout",
          "text": [
            "[[0 1 2]\n",
            " [3 4 5]\n",
            " [6 7 8]]\n"
          ]
        }
      ],
      "source": [
        "x =  np.arange(0, 9).reshape(3,3)\n",
        "print(x)\n"
      ]
    },
    {
      "cell_type": "markdown",
      "metadata": {
        "id": "ZNLcqIgDWkfH"
      },
      "source": [
        "#### 10. Find indices of non-zero elements from \\[1,2,0,0,4,0\\] (★☆☆) \n",
        "(**hint**: np.nonzero)"
      ]
    },
    {
      "cell_type": "code",
      "execution_count": null,
      "metadata": {
        "id": "fxMuOpDcWkfH",
        "colab": {
          "base_uri": "https://localhost:8080/"
        },
        "outputId": "3ada6515-1ad0-4a5c-8c80-9140eee8fed7"
      },
      "outputs": [
        {
          "output_type": "stream",
          "name": "stdout",
          "text": [
            "indices of non-zero elements ae (array([0, 1, 4]),)\n"
          ]
        }
      ],
      "source": [
        "x = np.array([1,2,0,0,4,0])\n",
        "print ('indices of non-zero elements ae',np.nonzero(x))"
      ]
    },
    {
      "cell_type": "markdown",
      "metadata": {
        "id": "YgFJYI3aWkfI"
      },
      "source": [
        "#### 11. Create a 3x3 identity matrix (★☆☆) \n",
        "(**hint**: np.eye)"
      ]
    },
    {
      "cell_type": "code",
      "execution_count": null,
      "metadata": {
        "id": "GKmMp5d_WkfI",
        "colab": {
          "base_uri": "https://localhost:8080/"
        },
        "outputId": "ae9db185-3004-4f7c-aa89-87c2fc778b39"
      },
      "outputs": [
        {
          "output_type": "execute_result",
          "data": {
            "text/plain": [
              "array([[1., 0., 0.],\n",
              "       [0., 1., 0.],\n",
              "       [0., 0., 1.]])"
            ]
          },
          "metadata": {},
          "execution_count": 12
        }
      ],
      "source": [
        "x = np.eye(3,3)\n",
        "x\n"
      ]
    },
    {
      "cell_type": "markdown",
      "metadata": {
        "id": "AlcmUd1SWkfJ"
      },
      "source": [
        "#### 12. Create a 3x3x3 array with random values (★☆☆) \n",
        "(**hint**: np.random.random)"
      ]
    },
    {
      "cell_type": "code",
      "execution_count": null,
      "metadata": {
        "collapsed": true,
        "id": "NG6Paq1zWkfJ",
        "colab": {
          "base_uri": "https://localhost:8080/"
        },
        "outputId": "74c1f7e9-a56b-4f91-b576-cf2ac2d89f3c"
      },
      "outputs": [
        {
          "output_type": "execute_result",
          "data": {
            "text/plain": [
              "array([[[0.38134185, 0.14368053, 0.09725139],\n",
              "        [0.66583088, 0.68282611, 0.77964165],\n",
              "        [0.08997406, 0.51469569, 0.89369339]],\n",
              "\n",
              "       [[0.54868773, 0.67481904, 0.68074877],\n",
              "        [0.52763345, 0.69400833, 0.4530791 ],\n",
              "        [0.76770477, 0.79173032, 0.72390612]],\n",
              "\n",
              "       [[0.8673988 , 0.81428975, 0.59519594],\n",
              "        [0.53062535, 0.67822511, 0.95797541],\n",
              "        [0.4255578 , 0.86138516, 0.12306554]]])"
            ]
          },
          "metadata": {},
          "execution_count": 13
        }
      ],
      "source": [
        "x = np.random.random((3,3,3))\n",
        "x\n"
      ]
    },
    {
      "cell_type": "markdown",
      "metadata": {
        "id": "e7SuGHX_WkfK"
      },
      "source": [
        "#### 13. Create a 10x10 array with random values and find the minimum and maximum values (★☆☆) \n",
        "(**hint**: min, max)"
      ]
    },
    {
      "cell_type": "code",
      "execution_count": null,
      "metadata": {
        "id": "V0XLjIbOWkfK",
        "colab": {
          "base_uri": "https://localhost:8080/"
        },
        "outputId": "40feafab-f660-4fe8-bdd4-207a27f38cbe"
      },
      "outputs": [
        {
          "output_type": "stream",
          "name": "stdout",
          "text": [
            "[[0.16284178 0.15503805 0.7498653  0.44166536 0.79383227 0.88764269\n",
            "  0.34182814 0.72376451 0.5925041  0.98470229]\n",
            " [0.2720948  0.71490874 0.45946583 0.57759491 0.886992   0.70690168\n",
            "  0.56219364 0.62525606 0.34094719 0.38115182]\n",
            " [0.09689775 0.66320316 0.6177307  0.75760318 0.36601876 0.9374027\n",
            "  0.43406216 0.80604323 0.41580834 0.32743379]\n",
            " [0.35721708 0.71588504 0.54167232 0.5463923  0.00677797 0.73683439\n",
            "  0.13314848 0.49761141 0.2111958  0.74547663]\n",
            " [0.67743785 0.91972859 0.9592197  0.59598313 0.20757824 0.13179266\n",
            "  0.19097823 0.01811491 0.60260008 0.15746751]\n",
            " [0.08739003 0.76650175 0.26187091 0.53972316 0.88943884 0.54720915\n",
            "  0.75299765 0.0483754  0.33090146 0.38984617]\n",
            " [0.0435828  0.8974457  0.3633636  0.69546979 0.12030349 0.38625342\n",
            "  0.96759028 0.12377138 0.82898058 0.41676787]\n",
            " [0.24111658 0.63183885 0.69548883 0.02983058 0.37014442 0.40069589\n",
            "  0.23184922 0.12378983 0.86295869 0.88929587]\n",
            " [0.28392578 0.19682674 0.73351696 0.73566679 0.9344922  0.49118317\n",
            "  0.82510397 0.41675633 0.8515675  0.06684756]\n",
            " [0.22570905 0.65762871 0.40045135 0.81382323 0.28930529 0.95957134\n",
            "  0.47535953 0.74653791 0.91433697 0.49076609]]\n",
            "max value is  0.9847022918377512\n",
            "min value is  0.006777974868864889\n"
          ]
        }
      ],
      "source": [
        "x = np.random.random((10,10))\n",
        "print (x)\n",
        "print (\"max value is \",np.max(x))\n",
        "print (\"min value is \",np.min(x))"
      ]
    },
    {
      "cell_type": "markdown",
      "metadata": {
        "id": "TaaF8GgdWkfM"
      },
      "source": [
        "#### 14. Create a random vector of size 30 and find the mean value (★☆☆) \n",
        "(**hint**: mean)"
      ]
    },
    {
      "cell_type": "code",
      "execution_count": null,
      "metadata": {
        "id": "sjWzXb4CWkfN",
        "colab": {
          "base_uri": "https://localhost:8080/"
        },
        "outputId": "f10e1691-d05a-47ed-8581-21ccab0c954e"
      },
      "outputs": [
        {
          "output_type": "stream",
          "name": "stdout",
          "text": [
            "[0.47974434 0.61250539 0.71302482 0.43350305 0.14383895 0.38315412\n",
            " 0.78455291 0.15772102 0.9713935  0.45274841 0.63573998 0.80095165\n",
            " 0.78071943 0.488891   0.13903773 0.76996537 0.39482148 0.94333089\n",
            " 0.53936511 0.47174259 0.4204597  0.21955089 0.27731801 0.66419146\n",
            " 0.1584164  0.5815921  0.33345192 0.36892305 0.41713204 0.70885601]\n",
            "mean is  0.5082214439916088\n"
          ]
        }
      ],
      "source": [
        "x = np.random.random(30)\n",
        "print (x)\n",
        "print (\"mean is \", np.mean(x))"
      ]
    },
    {
      "cell_type": "markdown",
      "metadata": {
        "id": "pBCpeipqWkfN"
      },
      "source": [
        "#### 15. Create a 2d array with 1 on the border and 0 inside (★☆☆) \n",
        "(**hint**: array\\[1:-1, 1:-1\\])"
      ]
    },
    {
      "cell_type": "code",
      "execution_count": null,
      "metadata": {
        "id": "vyMBVMsTWkfO",
        "colab": {
          "base_uri": "https://localhost:8080/"
        },
        "outputId": "287ce069-286a-4f39-fdde-4d8bf9c48c76"
      },
      "outputs": [
        {
          "output_type": "stream",
          "name": "stdout",
          "text": [
            "[[1. 1. 1. 1. 1.]\n",
            " [1. 0. 0. 0. 1.]\n",
            " [1. 0. 0. 0. 1.]\n",
            " [1. 0. 0. 0. 1.]\n",
            " [1. 1. 1. 1. 1.]]\n"
          ]
        }
      ],
      "source": [
        "x = np.ones((5,5))\n",
        "x[1:-1,1:-1] = 0\n",
        "print (x)"
      ]
    },
    {
      "cell_type": "markdown",
      "metadata": {
        "id": "sK6cLKSQWkfO"
      },
      "source": [
        "#### 16. How to add a border (filled with 0's) around an existing array? (★☆☆) \n",
        "(**hint**: np.pad)"
      ]
    },
    {
      "cell_type": "code",
      "execution_count": null,
      "metadata": {
        "id": "W_YaaC42WkfP",
        "colab": {
          "base_uri": "https://localhost:8080/"
        },
        "outputId": "a57c1699-76d7-4b38-f8ce-fbcb92254054"
      },
      "outputs": [
        {
          "output_type": "stream",
          "name": "stdout",
          "text": [
            "[[0. 0. 0. 0. 0.]\n",
            " [0. 1. 1. 1. 0.]\n",
            " [0. 1. 1. 1. 0.]\n",
            " [0. 1. 1. 1. 0.]\n",
            " [0. 0. 0. 0. 0.]]\n"
          ]
        }
      ],
      "source": [
        "x = np.ones((3,3))\n",
        "y = np.pad(x,pad_width= 1,mode = 'constant',constant_values = 0)\n",
        "print (y)"
      ]
    },
    {
      "cell_type": "markdown",
      "metadata": {
        "id": "augYlORzWkfP"
      },
      "source": [
        "#### 17. What is the result of the following expression? (★☆☆) \n",
        "(**hint**: NaN = not a number, inf = infinity)"
      ]
    },
    {
      "cell_type": "markdown",
      "metadata": {
        "id": "nl4EN-O_WkfP"
      },
      "source": [
        "```python\n",
        "0 * np.nan\n",
        "np.nan == np.nan\n",
        "np.inf > np.nan\n",
        "np.nan - np.nan\n",
        "0.3 == 3 * 0.1\n",
        "```"
      ]
    },
    {
      "cell_type": "code",
      "execution_count": null,
      "metadata": {
        "id": "4BKVxsatWkfQ",
        "colab": {
          "base_uri": "https://localhost:8080/"
        },
        "outputId": "3da3ebf1-95d3-40aa-e08c-8dcbfe7968dc"
      },
      "outputs": [
        {
          "output_type": "execute_result",
          "data": {
            "text/plain": [
              "False"
            ]
          },
          "metadata": {},
          "execution_count": 18
        }
      ],
      "source": [
        "0 * np.nan  \n",
        "np.nan == np.nan\n",
        "np.inf > np.nan\n",
        "\n",
        "\n",
        "\n",
        "\n",
        "\n",
        "\n",
        "\n"
      ]
    },
    {
      "cell_type": "markdown",
      "metadata": {
        "id": "rWZ9hhHbWkfR"
      },
      "source": [
        "#### 18. Create a 5x5 matrix with values 1,2,3,4 just below the diagonal (★☆☆) \n",
        "(**hint**: np.diag)"
      ]
    },
    {
      "cell_type": "code",
      "execution_count": null,
      "metadata": {
        "id": "hPWJbGDAWkfR",
        "colab": {
          "base_uri": "https://localhost:8080/"
        },
        "outputId": "ec20783b-22fd-41c2-a3d0-5f188f15154d"
      },
      "outputs": [
        {
          "output_type": "execute_result",
          "data": {
            "text/plain": [
              "array([[1, 0, 0, 0],\n",
              "       [0, 2, 0, 0],\n",
              "       [0, 0, 3, 0],\n",
              "       [0, 0, 0, 4]])"
            ]
          },
          "metadata": {},
          "execution_count": 19
        }
      ],
      "source": [
        "a = np.diag((1,2,3,4))\n",
        "a"
      ]
    },
    {
      "cell_type": "markdown",
      "metadata": {
        "id": "6xlA48pEWkfR"
      },
      "source": [
        "#### 19. Create a 8x8 matrix and fill it with a checkerboard pattern (★☆☆) \n",
        "(**hint**: array\\[::2\\])"
      ]
    },
    {
      "cell_type": "code",
      "execution_count": null,
      "metadata": {
        "id": "cGUOsXPtWkfS",
        "colab": {
          "base_uri": "https://localhost:8080/"
        },
        "outputId": "22605c73-0418-4d20-cf42-366bd4721bc8"
      },
      "outputs": [
        {
          "output_type": "stream",
          "name": "stdout",
          "text": [
            "[[0 1 0 1 0 1 0 1]\n",
            " [1 0 1 0 1 0 1 0]\n",
            " [0 1 0 1 0 1 0 1]\n",
            " [1 0 1 0 1 0 1 0]\n",
            " [0 1 0 1 0 1 0 1]\n",
            " [1 0 1 0 1 0 1 0]\n",
            " [0 1 0 1 0 1 0 1]\n",
            " [1 0 1 0 1 0 1 0]]\n"
          ]
        }
      ],
      "source": [
        "x = np.zeros((8,8),dtype=int)\n",
        "x[1::2,::2] = 1\n",
        "x[::2,1::2] = 1\n",
        "print(x)"
      ]
    },
    {
      "cell_type": "markdown",
      "metadata": {
        "id": "OD8eaqIAWkfS"
      },
      "source": [
        "#### 20. Consider a (6,7,8) shape array, what is the index (x,y,z) of the 100th element? \n",
        "(**hint**: np.unravel_index)"
      ]
    },
    {
      "cell_type": "code",
      "execution_count": null,
      "metadata": {
        "id": "O0JGQ6qrWkfT",
        "colab": {
          "base_uri": "https://localhost:8080/"
        },
        "outputId": "5d26b0b3-ce8b-495a-8662-cda2738dba58"
      },
      "outputs": [
        {
          "output_type": "stream",
          "name": "stdout",
          "text": [
            "(1, 5, 4)\n"
          ]
        }
      ],
      "source": [
        "print(np.unravel_index(100,(6,7,8)))"
      ]
    },
    {
      "cell_type": "markdown",
      "metadata": {
        "id": "9BsGouIBWkfT"
      },
      "source": [
        "#### 21. Create a checkerboard 8x8 matrix using the tile function (★☆☆) \n",
        "(**hint**: np.tile)"
      ]
    },
    {
      "cell_type": "code",
      "execution_count": null,
      "metadata": {
        "id": "SH17-DamWkfU",
        "colab": {
          "base_uri": "https://localhost:8080/"
        },
        "outputId": "41109887-db29-44e1-a367-72704d988038"
      },
      "outputs": [
        {
          "output_type": "stream",
          "name": "stdout",
          "text": [
            "[[0 1 0 1 0 1 0 1]\n",
            " [0 1 0 1 0 1 0 1]\n",
            " [0 1 0 1 0 1 0 1]\n",
            " [0 1 0 1 0 1 0 1]\n",
            " [0 1 0 1 0 1 0 1]\n",
            " [0 1 0 1 0 1 0 1]\n",
            " [0 1 0 1 0 1 0 1]\n",
            " [0 1 0 1 0 1 0 1]]\n"
          ]
        }
      ],
      "source": [
        "a= np.array([0, 1])\n",
        "reps = (8,4)\n",
        "c = np.tile(a, reps)\n",
        "print(c)"
      ]
    },
    {
      "cell_type": "markdown",
      "metadata": {
        "id": "3KXpCAS3WkfU"
      },
      "source": [
        "#### 22. Normalize a 5x5 random matrix (★☆☆) \n",
        "(**hint**: (x - min) / (max - min))"
      ]
    },
    {
      "cell_type": "code",
      "execution_count": null,
      "metadata": {
        "id": "mvf63fcOWkfU",
        "colab": {
          "base_uri": "https://localhost:8080/"
        },
        "outputId": "278bb065-b00b-4863-f9b7-a2e87d1e500f"
      },
      "outputs": [
        {
          "output_type": "stream",
          "name": "stdout",
          "text": [
            "[[0.70873592 0.73601764 0.64240682 0.         0.21852268]\n",
            " [0.32392313 0.20192402 0.13819491 0.87931671 0.70282824]\n",
            " [0.10109489 0.68925701 0.802386   0.72524056 0.67727304]\n",
            " [0.25626044 0.00414922 0.21945705 0.467838   0.18164332]\n",
            " [1.         0.73429658 0.18014093 0.50127687 0.5850893 ]]\n"
          ]
        }
      ],
      "source": [
        "x= np.random.random((5,5))\n",
        "xmax, xmin = x.max(), x.min()\n",
        "x = (x - xmin)/(xmax - xmin)\n",
        "print(x)"
      ]
    },
    {
      "cell_type": "markdown",
      "metadata": {
        "id": "LGskNb87WkfU"
      },
      "source": [
        "#### 23. Create a custom dtype that describes a color as four unsigned bytes (RGBA) (★☆☆) \n",
        "(**hint**: np.dtype)"
      ]
    },
    {
      "cell_type": "code",
      "execution_count": null,
      "metadata": {
        "collapsed": true,
        "id": "eVpW1rbOWkfV",
        "colab": {
          "base_uri": "https://localhost:8080/"
        },
        "outputId": "7fd8b840-c890-4ad5-dc63-5f74ac13976f"
      },
      "outputs": [
        {
          "output_type": "stream",
          "name": "stdout",
          "text": [
            "2\n"
          ]
        },
        {
          "output_type": "execute_result",
          "data": {
            "text/plain": [
              "numpy.ndarray"
            ]
          },
          "metadata": {},
          "execution_count": 24
        }
      ],
      "source": [
        "RGBA = np.dtype([('red',np.uint8),('green',np.uint8),('blue',np.uint8),('alpha',np.uint8)])\n",
        "color = np.array((1,2,4,3),dtype = RGBA)\n",
        "print(color['green'])\n",
        "type(color)"
      ]
    },
    {
      "cell_type": "markdown",
      "metadata": {
        "id": "4m0P7AHJWkfV"
      },
      "source": [
        "#### 24. Multiply a 5x3 matrix by a 3x2 matrix (real matrix product) (★☆☆) \n",
        "(**hint**: np.dot | @)"
      ]
    },
    {
      "cell_type": "code",
      "execution_count": null,
      "metadata": {
        "id": "kKMwo4n1WkfV",
        "colab": {
          "base_uri": "https://localhost:8080/"
        },
        "outputId": "0b706e88-a754-4ef6-a6da-41558ac1154f"
      },
      "outputs": [
        {
          "output_type": "stream",
          "name": "stdout",
          "text": [
            "[[0.60109053 0.80327189]\n",
            " [0.39023267 0.68430594]\n",
            " [0.50137811 0.88524004]\n",
            " [0.64033905 0.98536938]\n",
            " [0.85831756 1.30151886]]\n"
          ]
        }
      ],
      "source": [
        "x= np.random.random((5,3))\n",
        "y= np.random.random((3,2))\n",
        "z = np.dot(x,y)\n",
        "print(z)"
      ]
    },
    {
      "cell_type": "markdown",
      "metadata": {
        "id": "s815-0n-WkfW"
      },
      "source": [
        "#### 25. Given a 1D array, negate all elements which are between 3 and 8, in place. (★☆☆) \n",
        "(**hint**: >, <=)"
      ]
    },
    {
      "cell_type": "code",
      "execution_count": null,
      "metadata": {
        "id": "D37eGqUaWkfW",
        "colab": {
          "base_uri": "https://localhost:8080/"
        },
        "outputId": "f1557a52-18b2-438b-f5c5-7bc4ee471247"
      },
      "outputs": [
        {
          "output_type": "execute_result",
          "data": {
            "text/plain": [
              "array([ 0,  1,  2,  3, -4, -5, -6, -7, -8,  9, 10])"
            ]
          },
          "metadata": {},
          "execution_count": 26
        }
      ],
      "source": [
        "Z = np.arange(11)\n",
        "Z[(3 < Z) & (Z <= 8)] *= -1\n",
        "Z\n"
      ]
    },
    {
      "cell_type": "markdown",
      "metadata": {
        "id": "1hKVrGH6WkfW"
      },
      "source": [
        "#### 26. What is the output of the following script? (★☆☆) \n",
        "(**hint**: np.sum)"
      ]
    },
    {
      "cell_type": "markdown",
      "metadata": {
        "id": "hMZejUKpWkfX"
      },
      "source": [
        "```python\n",
        "# Author: Jake VanderPlas\n",
        "\n",
        "print(sum(range(5),-1))\n",
        "from numpy import *\n",
        "print(sum(range(5),-1))\n",
        "```"
      ]
    },
    {
      "cell_type": "code",
      "execution_count": null,
      "metadata": {
        "id": "aMrNLa7iWkfX",
        "colab": {
          "base_uri": "https://localhost:8080/"
        },
        "outputId": "ed29e29f-1a6f-463c-f6f7-819600f6b340"
      },
      "outputs": [
        {
          "output_type": "stream",
          "name": "stdout",
          "text": [
            "9\n",
            "10\n"
          ]
        }
      ],
      "source": [
        "\n",
        "print(sum(range(5),-1))\n",
        "from numpy import *\n",
        "print(sum(range(5),-1))"
      ]
    },
    {
      "cell_type": "markdown",
      "metadata": {
        "id": "hHGbx6jwWkfY"
      },
      "source": [
        "#### 27. Consider an integer vector Z, which of these expressions are legal? (★☆☆)"
      ]
    },
    {
      "cell_type": "markdown",
      "metadata": {
        "id": "eveQG03PWkfY"
      },
      "source": [
        "```python\n",
        "Z**Z\n",
        "2 << Z >> 2\n",
        "Z <- Z\n",
        "1j*Z\n",
        "Z/1/1\n",
        "Z<Z>Z\n",
        "```"
      ]
    },
    {
      "cell_type": "code",
      "execution_count": null,
      "metadata": {
        "id": "eA2WV-7hWkfY",
        "colab": {
          "base_uri": "https://localhost:8080/"
        },
        "outputId": "30a2aa13-648b-4835-d082-99496bae9118"
      },
      "outputs": [
        {
          "output_type": "stream",
          "name": "stdout",
          "text": [
            "[        1         1         4        27       256      3125     46656\n",
            "    823543  16777216 387420489]\n",
            "[  0   1   2   4   8  16  32  64 128 256]\n",
            "[False False False False False False False False False False]\n",
            "[0.+0.j 0.+1.j 0.+2.j 0.+3.j 0.+4.j 0.+5.j 0.+6.j 0.+7.j 0.+8.j 0.+9.j]\n",
            "[0. 1. 2. 3. 4. 5. 6. 7. 8. 9.]\n"
          ]
        }
      ],
      "source": [
        "z=np.arange(10)\n",
        "print(z**z)\n",
        "print(2 << z >> 2)\n",
        "print(z <- z)\n",
        "print(1j*z)\n",
        "print(z/1/1)\n",
        "#print(z<z<z)--not legal"
      ]
    },
    {
      "cell_type": "markdown",
      "metadata": {
        "id": "Gv3YkVdMWkfZ"
      },
      "source": [
        "#### 28. What are the result of the following expressions?"
      ]
    },
    {
      "cell_type": "markdown",
      "metadata": {
        "id": "YpjOmEjnWkfZ"
      },
      "source": [
        "```python\n",
        "np.array(0) / np.array(0)\n",
        "np.array(0) // np.array(0)\n",
        "np.array([np.nan]).astype(int).astype(float)\n",
        "```"
      ]
    },
    {
      "cell_type": "code",
      "execution_count": null,
      "metadata": {
        "id": "b85GazgZWkfZ",
        "colab": {
          "base_uri": "https://localhost:8080/"
        },
        "outputId": "cedcc9ec-3790-4578-c5c1-6aa1808e785a"
      },
      "outputs": [
        {
          "output_type": "stream",
          "name": "stderr",
          "text": [
            "/usr/local/lib/python3.7/dist-packages/ipykernel_launcher.py:1: RuntimeWarning: invalid value encountered in true_divide\n",
            "  \"\"\"Entry point for launching an IPython kernel.\n",
            "/usr/local/lib/python3.7/dist-packages/ipykernel_launcher.py:2: RuntimeWarning: divide by zero encountered in floor_divide\n",
            "  \n"
          ]
        },
        {
          "output_type": "execute_result",
          "data": {
            "text/plain": [
              "array([-9.22337204e+18])"
            ]
          },
          "metadata": {},
          "execution_count": 29
        }
      ],
      "source": [
        "np.array(0) / np.array(0)\n",
        "np.array(0) // np.array(0)\n",
        "np.array([np.nan]).astype(int).astype(float)"
      ]
    },
    {
      "cell_type": "markdown",
      "metadata": {
        "id": "hgMoWk46Wkfa"
      },
      "source": [
        "#### 29. How to round away from zero a float array ? (★☆☆) \n",
        "(**hint**: np.uniform, np.copysign, np.ceil, np.abs)"
      ]
    },
    {
      "cell_type": "code",
      "execution_count": null,
      "metadata": {
        "id": "ASYWclZWWkfa",
        "colab": {
          "base_uri": "https://localhost:8080/"
        },
        "outputId": "de9cb235-cfb8-4dfc-c1d9-40b4d35f5126"
      },
      "outputs": [
        {
          "output_type": "stream",
          "name": "stdout",
          "text": [
            "[5.5 2.3 1.4 3.2 5.3]\n",
            "[5. 2. 1. 3. 5.]\n",
            "[-5.  2.  1. -3. -5.]\n"
          ]
        }
      ],
      "source": [
        "z = np.array([-5.5,2.3,1.4,-3.2,-5.3])\n",
        "\n",
        "z1=np.abs(z)\n",
        "print(z1)\n",
        "z2=np.floor(z1)\n",
        "print(z2)\n",
        "z3=np.copysign(z2,z)\n",
        "print(z3)"
      ]
    },
    {
      "cell_type": "markdown",
      "metadata": {
        "id": "02oKqjgXWkfa"
      },
      "source": [
        "#### 30. How to find common values between two arrays? (★☆☆) \n",
        "(**hint**: np.intersect1d)"
      ]
    },
    {
      "cell_type": "code",
      "execution_count": null,
      "metadata": {
        "id": "sac-xzNQWkfb",
        "colab": {
          "base_uri": "https://localhost:8080/"
        },
        "outputId": "d089959c-8bc4-45b0-f108-e5b234daa788"
      },
      "outputs": [
        {
          "output_type": "stream",
          "name": "stdout",
          "text": [
            "[1 2 3 4 5]\n"
          ]
        }
      ],
      "source": [
        "x = np.array([1,2,3,4,5])\n",
        "y = np.arange(10)\n",
        "z = np.intersect1d(x,y)\n",
        "print (z)"
      ]
    },
    {
      "cell_type": "markdown",
      "metadata": {
        "id": "jWyqB6b6Wkfb"
      },
      "source": [
        "#### 31. How to ignore all numpy warnings (not recommended)? (★☆☆) \n",
        "(**hint**: np.seterr, np.errstate)"
      ]
    },
    {
      "cell_type": "code",
      "execution_count": null,
      "metadata": {
        "id": "Q54YpxeoWkfd"
      },
      "outputs": [],
      "source": [
        "\n",
        "defaults = np.seterr(all=\"ignore\")\n",
        "Z = np.ones(1) / 0\n",
        "\n",
        "_ = np.seterr(**defaults)\n",
        "\n",
        "\n",
        "with np.errstate(divide='ignore'):\n",
        "    Z = np.ones(1) / 0"
      ]
    },
    {
      "cell_type": "markdown",
      "metadata": {
        "id": "uVo3mAPSWkfe"
      },
      "source": [
        "#### 32. Is the following expressions true? (★☆☆) \n",
        "(**hint**: imaginary number)"
      ]
    },
    {
      "cell_type": "markdown",
      "metadata": {
        "id": "iH8fxqheWkfe"
      },
      "source": [
        "```python\n",
        "np.sqrt(-1) == np.emath.sqrt(-1)\n",
        "```"
      ]
    },
    {
      "cell_type": "code",
      "execution_count": null,
      "metadata": {
        "id": "XuGlpmUdWkfe",
        "colab": {
          "base_uri": "https://localhost:8080/"
        },
        "outputId": "87de7984-3580-4829-93ff-f25b7a33e651"
      },
      "outputs": [
        {
          "output_type": "stream",
          "name": "stderr",
          "text": [
            "/usr/local/lib/python3.7/dist-packages/ipykernel_launcher.py:1: RuntimeWarning: invalid value encountered in sqrt\n",
            "  \"\"\"Entry point for launching an IPython kernel.\n"
          ]
        },
        {
          "output_type": "execute_result",
          "data": {
            "text/plain": [
              "False"
            ]
          },
          "metadata": {},
          "execution_count": 33
        }
      ],
      "source": [
        "np.sqrt(-1) == np.emath.sqrt(-1)"
      ]
    },
    {
      "cell_type": "markdown",
      "metadata": {
        "id": "anhit2goWkff"
      },
      "source": [
        "#### 33. How to get the dates of yesterday, today and tomorrow? (★☆☆) \n",
        "(**hint**: np.datetime64, np.timedelta64)"
      ]
    },
    {
      "cell_type": "code",
      "execution_count": null,
      "metadata": {
        "collapsed": true,
        "id": "OEMXWbT5Wkff",
        "colab": {
          "base_uri": "https://localhost:8080/"
        },
        "outputId": "b746269f-d480-45b9-b739-07d714a94a29"
      },
      "outputs": [
        {
          "output_type": "stream",
          "name": "stdout",
          "text": [
            "yesterday =  2022-08-08\n",
            "today 2022-08-09\n",
            "tomorrow  =  2022-08-10\n"
          ]
        }
      ],
      "source": [
        "print (\"yesterday = \", np.datetime64('today', 'D') - np.timedelta64(1, 'D'))\n",
        "print  (\"today\",  np.datetime64('today', 'D'))    \n",
        "print (\"tomorrow  = \",np.datetime64('today', 'D') + np.timedelta64(1, 'D'))"
      ]
    },
    {
      "cell_type": "markdown",
      "metadata": {
        "id": "oXChWOmWWkff"
      },
      "source": [
        "#### 34. How to get all the dates corresponding to the month of July 2016? (★★☆) \n",
        "(**hint**: np.arange(dtype=datetime64\\['D'\\]))"
      ]
    },
    {
      "cell_type": "code",
      "execution_count": null,
      "metadata": {
        "id": "Xvf4D1DRWkfg",
        "colab": {
          "base_uri": "https://localhost:8080/"
        },
        "outputId": "bdd249a4-6196-4d99-b54d-22879b0b9eb4"
      },
      "outputs": [
        {
          "output_type": "stream",
          "name": "stdout",
          "text": [
            "['2016-07-01' '2016-07-02' '2016-07-03' '2016-07-04' '2016-07-05'\n",
            " '2016-07-06' '2016-07-07' '2016-07-08' '2016-07-09' '2016-07-10'\n",
            " '2016-07-11' '2016-07-12' '2016-07-13' '2016-07-14' '2016-07-15'\n",
            " '2016-07-16' '2016-07-17' '2016-07-18' '2016-07-19' '2016-07-20'\n",
            " '2016-07-21' '2016-07-22' '2016-07-23' '2016-07-24' '2016-07-25'\n",
            " '2016-07-26' '2016-07-27' '2016-07-28' '2016-07-29' '2016-07-30'\n",
            " '2016-07-31']\n"
          ]
        }
      ],
      "source": [
        "Z = np.arange('2016-07', '2016-08', dtype='datetime64[D]')\n",
        "print(Z)"
      ]
    },
    {
      "cell_type": "markdown",
      "metadata": {
        "id": "bIRR2PP1Wkfg"
      },
      "source": [
        "#### 35. How to compute ((A+B)\\*(-A/2)) in place (without copy)? (★★☆) \n",
        "(**hint**: np.add(out=), np.negative(out=), np.multiply(out=), np.divide(out=))"
      ]
    },
    {
      "cell_type": "code",
      "execution_count": null,
      "metadata": {
        "id": "rFV-L0VQWkfg",
        "colab": {
          "base_uri": "https://localhost:8080/"
        },
        "outputId": "5ac33cb0-30fd-4a0f-8b49-8845a0a4616b"
      },
      "outputs": [
        {
          "output_type": "execute_result",
          "data": {
            "text/plain": [
              "array([-1.5, -1.5, -1.5])"
            ]
          },
          "metadata": {},
          "execution_count": 36
        }
      ],
      "source": [
        "A = np.ones(3)*1\n",
        "B = np.ones(3)*2\n",
        "C = np.ones(3)*3\n",
        "np.add(A,B,out=B)\n",
        "np.divide(A,2,out=A)\n",
        "np.negative(A,out=A)\n",
        "np.multiply(A,B,out=A)"
      ]
    },
    {
      "cell_type": "markdown",
      "metadata": {
        "id": "Z_RbOtwVWkfh"
      },
      "source": [
        "#### 36. Extract the integer part of a random array using 5 different methods (★★☆) \n",
        "(**hint**: %, np.floor, np.ceil, astype, np.trunc)"
      ]
    },
    {
      "cell_type": "code",
      "execution_count": null,
      "metadata": {
        "id": "lrvJruWuWkfh",
        "colab": {
          "base_uri": "https://localhost:8080/"
        },
        "outputId": "046c7a93-11a0-4e77-a4ee-84116c76106f"
      },
      "outputs": [
        {
          "output_type": "stream",
          "name": "stdout",
          "text": [
            "[0.89767054 2.49872911 9.28160732 5.78106785 2.49475466 9.81974442\n",
            " 6.72449875 9.98291976 7.6709476  2.10170598]\n",
            "[0. 2. 9. 5. 2. 9. 6. 9. 7. 2.]\n",
            "[0. 2. 9. 5. 2. 9. 6. 9. 7. 2.]\n",
            "[0. 2. 9. 5. 2. 9. 6. 9. 7. 2.]\n",
            "[0 2 9 5 2 9 6 9 7 2]\n",
            "[0. 2. 9. 5. 2. 9. 6. 9. 7. 2.]\n"
          ]
        }
      ],
      "source": [
        "Z = np.random.uniform(0,10,10)\n",
        "print (Z)\n",
        "print (Z - Z%1)\n",
        "print (np.floor(Z))\n",
        "print (np.ceil(Z)-1)\n",
        "print (Z.astype(int))\n",
        "print (np.trunc(Z))"
      ]
    },
    {
      "cell_type": "markdown",
      "metadata": {
        "id": "dMCO6eqtWkfi"
      },
      "source": [
        "#### 37. Create a 5x5 matrix with row values ranging from 0 to 4 (★★☆) \n",
        "(**hint**: np.arange)"
      ]
    },
    {
      "cell_type": "code",
      "execution_count": null,
      "metadata": {
        "id": "LGkW8NF2Wkfi",
        "colab": {
          "base_uri": "https://localhost:8080/"
        },
        "outputId": "c5062705-f607-4d20-b21e-224f06a812b7"
      },
      "outputs": [
        {
          "output_type": "stream",
          "name": "stdout",
          "text": [
            "[[0. 1. 2. 3. 4.]\n",
            " [0. 1. 2. 3. 4.]\n",
            " [0. 1. 2. 3. 4.]\n",
            " [0. 1. 2. 3. 4.]\n",
            " [0. 1. 2. 3. 4.]]\n"
          ]
        }
      ],
      "source": [
        "Z = np.zeros((5,5))\n",
        "Z += np.arange(5)\n",
        "print(Z)"
      ]
    },
    {
      "cell_type": "markdown",
      "metadata": {
        "id": "g2fssy8cWkfi"
      },
      "source": [
        "#### 38. Consider a generator function that generates 10 integers and use it to build an array (★☆☆) \n",
        "(**hint**: np.fromiter)"
      ]
    },
    {
      "cell_type": "code",
      "execution_count": null,
      "metadata": {
        "id": "_B516BhYWkfj",
        "colab": {
          "base_uri": "https://localhost:8080/"
        },
        "outputId": "8182224f-0677-4c7f-ad26-6d8d27fd7633"
      },
      "outputs": [
        {
          "output_type": "stream",
          "name": "stdout",
          "text": [
            "[0. 1. 2. 3. 4. 5. 6. 7. 8. 9.]\n"
          ]
        }
      ],
      "source": [
        "def generate():\n",
        "    for x in range(10):\n",
        "        yield x\n",
        "Z = np.fromiter(generate(),dtype=float,count=-1)\n",
        "print(Z)"
      ]
    },
    {
      "cell_type": "markdown",
      "metadata": {
        "id": "NeezzoiKWkfj"
      },
      "source": [
        "#### 39. Create a vector of size 10 with values ranging from 0 to 1, both excluded (★★☆) \n",
        "(**hint**: np.linspace)"
      ]
    },
    {
      "cell_type": "code",
      "execution_count": null,
      "metadata": {
        "id": "4qQz-rteWkfk",
        "colab": {
          "base_uri": "https://localhost:8080/"
        },
        "outputId": "309e3554-9864-422a-f998-6aec83e11c85"
      },
      "outputs": [
        {
          "output_type": "stream",
          "name": "stdout",
          "text": [
            "[0.09090909 0.18181818 0.27272727 0.36363636 0.45454545 0.54545455\n",
            " 0.63636364 0.72727273 0.81818182 0.90909091]\n"
          ]
        }
      ],
      "source": [
        "Z = np.linspace(0,1,11,endpoint=False)[1:]\n",
        "print(Z)"
      ]
    },
    {
      "cell_type": "markdown",
      "metadata": {
        "id": "YPFQt58LWkfk"
      },
      "source": [
        "#### 40. Create a random vector of size 10 and sort it (★★☆) \n",
        "(**hint**: sort)"
      ]
    },
    {
      "cell_type": "code",
      "execution_count": null,
      "metadata": {
        "id": "9cGm2RzSWkfk",
        "colab": {
          "base_uri": "https://localhost:8080/"
        },
        "outputId": "6474edea-4ae5-49c0-c8ea-bb4d8bccfe70"
      },
      "outputs": [
        {
          "output_type": "stream",
          "name": "stdout",
          "text": [
            "[0.01723746 0.13872524 0.25371441 0.309519   0.35784322 0.36838287\n",
            " 0.37458674 0.469582   0.55598527 0.72237275]\n"
          ]
        }
      ],
      "source": [
        "Z = np.random.random(10)\n",
        "Z.sort()\n",
        "print(Z)"
      ]
    },
    {
      "cell_type": "markdown",
      "metadata": {
        "id": "3oYcvhpZWkfl"
      },
      "source": [
        "#### 41. How to sum a small array faster than np.sum? (★★☆) \n",
        "(**hint**: np.add.reduce)"
      ]
    },
    {
      "cell_type": "code",
      "execution_count": null,
      "metadata": {
        "id": "mpd3m83AWkfl",
        "colab": {
          "base_uri": "https://localhost:8080/"
        },
        "outputId": "cb293a68-23c2-4f0c-f0d8-e84dbb4ea3c3"
      },
      "outputs": [
        {
          "output_type": "execute_result",
          "data": {
            "text/plain": [
              "45"
            ]
          },
          "metadata": {},
          "execution_count": 42
        }
      ],
      "source": [
        "Z = np.arange(10)\n",
        "np.add.reduce(Z)"
      ]
    },
    {
      "cell_type": "markdown",
      "metadata": {
        "id": "hcVxRB4eWkfl"
      },
      "source": [
        "#### 42. Consider two random array A and B, check if they are equal (★★☆) \n",
        "(**hint**: np.allclose, np.array\\_equal)"
      ]
    },
    {
      "cell_type": "code",
      "execution_count": null,
      "metadata": {
        "id": "fLTifM6oWkfm",
        "colab": {
          "base_uri": "https://localhost:8080/"
        },
        "outputId": "295aa144-02fd-4f9c-a8ba-76ed0302a159"
      },
      "outputs": [
        {
          "output_type": "stream",
          "name": "stdout",
          "text": [
            "False\n",
            "False\n"
          ]
        }
      ],
      "source": [
        "A = np.random.randint(0,2,5)\n",
        "B = np.random.randint(0,2,5)\n",
        "\n",
        "\n",
        "equal = np.allclose(A,B)\n",
        "print(equal)\n",
        "\n",
        "\n",
        "equal = np.array_equal(A,B)\n",
        "print(equal)"
      ]
    },
    {
      "cell_type": "markdown",
      "metadata": {
        "id": "RGgWcr_SWkfm"
      },
      "source": [
        "#### 43. Make an array immutable (read-only) (★★☆) \n",
        "(**hint**: flags.writeable)"
      ]
    },
    {
      "cell_type": "code",
      "execution_count": null,
      "metadata": {
        "id": "NCvRqV5tWkfn",
        "colab": {
          "base_uri": "https://localhost:8080/",
          "height": 208
        },
        "outputId": "b03e3698-716e-4430-d897-7e33a02c976c"
      },
      "outputs": [
        {
          "output_type": "error",
          "ename": "ValueError",
          "evalue": "ignored",
          "traceback": [
            "\u001b[0;31m---------------------------------------------------------------------------\u001b[0m",
            "\u001b[0;31mValueError\u001b[0m                                Traceback (most recent call last)",
            "\u001b[0;32m<ipython-input-44-4fb122276f51>\u001b[0m in \u001b[0;36m<module>\u001b[0;34m()\u001b[0m\n\u001b[1;32m      1\u001b[0m \u001b[0mx\u001b[0m \u001b[0;34m=\u001b[0m \u001b[0mnp\u001b[0m\u001b[0;34m.\u001b[0m\u001b[0marray\u001b[0m\u001b[0;34m(\u001b[0m\u001b[0;34m[\u001b[0m\u001b[0;36m10\u001b[0m\u001b[0;34m,\u001b[0m\u001b[0;36m20\u001b[0m\u001b[0;34m,\u001b[0m\u001b[0;36m30\u001b[0m\u001b[0;34m,\u001b[0m\u001b[0;36m40\u001b[0m\u001b[0;34m,\u001b[0m\u001b[0;36m50\u001b[0m\u001b[0;34m]\u001b[0m\u001b[0;34m)\u001b[0m\u001b[0;34m\u001b[0m\u001b[0;34m\u001b[0m\u001b[0m\n\u001b[1;32m      2\u001b[0m \u001b[0mx\u001b[0m\u001b[0;34m.\u001b[0m\u001b[0mflags\u001b[0m\u001b[0;34m.\u001b[0m\u001b[0mwriteable\u001b[0m\u001b[0;34m=\u001b[0m \u001b[0;32mFalse\u001b[0m\u001b[0;34m\u001b[0m\u001b[0;34m\u001b[0m\u001b[0m\n\u001b[0;32m----> 3\u001b[0;31m \u001b[0mx\u001b[0m\u001b[0;34m[\u001b[0m\u001b[0;36m0\u001b[0m\u001b[0;34m]\u001b[0m\u001b[0;34m=\u001b[0m\u001b[0;36m1\u001b[0m\u001b[0;34m\u001b[0m\u001b[0;34m\u001b[0m\u001b[0m\n\u001b[0m",
            "\u001b[0;31mValueError\u001b[0m: assignment destination is read-only"
          ]
        }
      ],
      "source": [
        "x = np.array([10,20,30,40,50])\n",
        "x.flags.writeable= False\n",
        "x[0]=1"
      ]
    },
    {
      "cell_type": "markdown",
      "metadata": {
        "id": "hH98QumeWkfn"
      },
      "source": [
        "#### 44. Consider a random 10x2 matrix representing cartesian coordinates, convert them to polar coordinates (★★☆) \n",
        "(**hint**: np.sqrt, np.arctan2)"
      ]
    },
    {
      "cell_type": "code",
      "execution_count": null,
      "metadata": {
        "id": "pp6mlVbwWkfn"
      },
      "outputs": [],
      "source": [
        "Z = np.random.random((10,2))\n",
        "X,Y = Z[:,0], Z[:,1]\n",
        "R = np.sqrt(X**2+Y**2)\n",
        "T = np.arctan2(Y,X)\n",
        "print(R)\n",
        "print(T)"
      ]
    },
    {
      "cell_type": "markdown",
      "metadata": {
        "id": "34wH-zv8Wkfn"
      },
      "source": [
        "#### 45. Create random vector of size 10 and replace the maximum value by 0 (★★☆) \n",
        "(**hint**: argmax)"
      ]
    },
    {
      "cell_type": "code",
      "execution_count": null,
      "metadata": {
        "id": "00vQkJtYWkfo"
      },
      "outputs": [],
      "source": [
        "x = np.random.random((10))\n",
        "x[x.argmax()] = 0\n",
        "print(x)"
      ]
    },
    {
      "cell_type": "markdown",
      "metadata": {
        "id": "5oaxWG-EWkfo"
      },
      "source": [
        "#### 46. Create a structured array with `x` and `y` coordinates covering the \\[0,1\\]x\\[0,1\\] area (★★☆) \n",
        "(**hint**: np.meshgrid)"
      ]
    },
    {
      "cell_type": "code",
      "execution_count": null,
      "metadata": {
        "id": "5JNlw_QQWkfp"
      },
      "outputs": [],
      "source": [
        "Z = np.zeros((5,5), [('x',float),('y',float)])\n",
        "Z['x'], Z['y'] = np.meshgrid(np.linspace(0,1,5),\n",
        "                             np.linspace(0,1,5))\n",
        "print(Z)"
      ]
    },
    {
      "cell_type": "markdown",
      "metadata": {
        "id": "qJ4T4djDWkf1"
      },
      "source": [
        "####  47. Given two arrays, X and Y, construct the Cauchy matrix C (Cij =1/(xi - yj)) \n",
        "(**hint**: np.subtract.outer)"
      ]
    },
    {
      "cell_type": "code",
      "execution_count": null,
      "metadata": {
        "id": "Pp8U4DAxWkf1"
      },
      "outputs": [],
      "source": [
        "X = np.arange(8)\n",
        "Y = X + 0.5\n",
        "C = 1.0 / np.subtract.outer(X, Y)\n",
        "print(np.linalg.det(C))"
      ]
    },
    {
      "cell_type": "markdown",
      "metadata": {
        "id": "0hUrXsKqWkf2"
      },
      "source": [
        "#### 48. Print the minimum and maximum representable value for each numpy scalar type (★★☆) \n",
        "(**hint**: np.iinfo, np.finfo, eps)"
      ]
    },
    {
      "cell_type": "code",
      "execution_count": null,
      "metadata": {
        "id": "f06723EnWkf2"
      },
      "outputs": [],
      "source": [
        "for dtype in [np.int8, np.int32, np.int64]:\n",
        "   print(np.iinfo(dtype).min)\n",
        "   print(np.iinfo(dtype).max)\n",
        "for dtype in [np.float32, np.float64]:\n",
        "   print(np.finfo(dtype).min)\n",
        "   print(np.finfo(dtype).max)\n",
        "   print(np.finfo(dtype).eps)"
      ]
    },
    {
      "cell_type": "markdown",
      "metadata": {
        "id": "4EcalwUpWkf3"
      },
      "source": [
        "#### 49. How to print all the values of an array? (★★☆) \n",
        "(**hint**: np.set\\_printoptions)"
      ]
    },
    {
      "cell_type": "code",
      "execution_count": null,
      "metadata": {
        "id": "Q-KeA8tGWkf3"
      },
      "outputs": [],
      "source": [
        "np.set_printoptions(threshold=np.nan)\n",
        "Z = np.zeros((16,16))\n",
        "print(Z)\n",
        " \n"
      ]
    },
    {
      "cell_type": "markdown",
      "metadata": {
        "id": "MBjophZEWkf3"
      },
      "source": [
        "#### 50. How to find the closest value (to a given scalar) in a vector? (★★☆) \n",
        "(**hint**: argmin)"
      ]
    },
    {
      "cell_type": "code",
      "execution_count": null,
      "metadata": {
        "id": "tZcfv5WcWkf4"
      },
      "outputs": [],
      "source": [
        "Z = np.arange(100)\n",
        "v = np.random.uniform(0,100)\n",
        "index = (np.abs(Z-v)).argmin()\n",
        "print(Z[index])"
      ]
    },
    {
      "cell_type": "markdown",
      "metadata": {
        "id": "51zQBdV7Wkf4"
      },
      "source": [
        "#### 51. Create a structured array representing a position (x,y) and a color (r,g,b) (★★☆) \n",
        "(**hint**: dtype)"
      ]
    },
    {
      "cell_type": "code",
      "execution_count": null,
      "metadata": {
        "id": "OMtDLYkEWkf4",
        "colab": {
          "base_uri": "https://localhost:8080/"
        },
        "outputId": "c73552aa-d5cf-43cb-9a79-e814774c0f1a"
      },
      "outputs": [
        {
          "output_type": "stream",
          "name": "stdout",
          "text": [
            "[((0., 0.), (0., 0., 0.)) ((0., 0.), (0., 0., 0.))\n",
            " ((0., 0.), (0., 0., 0.)) ((0., 0.), (0., 0., 0.))\n",
            " ((0., 0.), (0., 0., 0.)) ((0., 0.), (0., 0., 0.))\n",
            " ((0., 0.), (0., 0., 0.)) ((0., 0.), (0., 0., 0.))\n",
            " ((0., 0.), (0., 0., 0.)) ((0., 0.), (0., 0., 0.))]\n"
          ]
        },
        {
          "output_type": "stream",
          "name": "stderr",
          "text": [
            "/usr/local/lib/python3.7/dist-packages/ipykernel_launcher.py:5: FutureWarning: Passing (type, 1) or '1type' as a synonym of type is deprecated; in a future version of numpy, it will be understood as (type, (1,)) / '(1,)type'.\n",
            "  \"\"\"\n"
          ]
        }
      ],
      "source": [
        "Z = np.zeros(10, [ ('position', [ ('x', float, 1),\n",
        "                                  ('y', float, 1)]),\n",
        "                   ('color',    [ ('r', float, 1),\n",
        "                                  ('g', float, 1),\n",
        "                                  ('b', float, 1)])])\n",
        "print(Z)"
      ]
    },
    {
      "cell_type": "markdown",
      "metadata": {
        "id": "HCNvPtTMWkf5"
      },
      "source": [
        "#### 52. Consider a random vector with shape (100,2) representing coordinates, find point by point distances (★★☆) \n",
        "(**hint**: np.atleast\\_2d, T, np.sqrt)"
      ]
    },
    {
      "cell_type": "code",
      "execution_count": null,
      "metadata": {
        "id": "s33otTIvWkf5",
        "colab": {
          "base_uri": "https://localhost:8080/"
        },
        "outputId": "b38b554f-5d7e-4678-9d5d-6a87b882ae3e"
      },
      "outputs": [
        {
          "output_type": "stream",
          "name": "stdout",
          "text": [
            "[[0.         0.83983349 0.84060325 0.92911302 0.49371514 0.96334753\n",
            "  0.61096335 0.31276003 0.07396341 0.51719114]\n",
            " [0.83983349 0.         0.63353432 0.16332375 0.35603342 0.37550017\n",
            "  0.60604638 0.57054151 0.78190806 0.67842035]\n",
            " [0.84060325 0.63353432 0.         0.79602266 0.66047357 0.35830131\n",
            "  1.04277641 0.55620089 0.7673232  0.34151649]\n",
            " [0.92911302 0.16332375 0.79602266 0.         0.43573517 0.51659369\n",
            "  0.57681955 0.69019023 0.87908176 0.83082328]\n",
            " [0.49371514 0.35603342 0.66047357 0.43573517 0.         0.59108479\n",
            "  0.3823041  0.28245069 0.4437779  0.51552985]\n",
            " [0.96334753 0.37550017 0.35830131 0.51659369 0.59108479 0.\n",
            "  0.93634853 0.65083432 0.89179958 0.58508492]\n",
            " [0.61096335 0.60604638 1.04277641 0.57681955 0.3823041  0.93634853\n",
            "  0.         0.58733803 0.60637479 0.86608461]\n",
            " [0.31276003 0.57054151 0.55620089 0.69019023 0.28245069 0.65083432\n",
            "  0.58733803 0.         0.24099006 0.28809215]\n",
            " [0.07396341 0.78190806 0.7673232  0.87908176 0.4437779  0.89179958\n",
            "  0.60637479 0.24099006 0.         0.44697863]\n",
            " [0.51719114 0.67842035 0.34151649 0.83082328 0.51552985 0.58508492\n",
            "  0.86608461 0.28809215 0.44697863 0.        ]]\n",
            "[[0.         0.27259822 0.62605691 0.67679697 0.32688379 0.60315461\n",
            "  0.47661234 0.53270091 0.30441002 0.38052278]\n",
            " [0.27259822 0.         0.41426408 0.40689185 0.20794616 0.33069516\n",
            "  0.53534177 0.54607727 0.16091055 0.15911937]\n",
            " [0.62605691 0.41426408 0.         0.41144038 0.59684037 0.30820352\n",
            "  0.537448   0.47700407 0.32183934 0.25823896]\n",
            " [0.67679697 0.40689185 0.41144038 0.         0.4405258  0.1121523\n",
            "  0.84762712 0.81896085 0.47549389 0.3801948 ]\n",
            " [0.32688379 0.20794616 0.59684037 0.4405258  0.         0.41408495\n",
            "  0.71917744 0.74220808 0.36737967 0.35785286]\n",
            " [0.60315461 0.33069516 0.30820352 0.1121523  0.41408495 0.\n",
            "  0.73789235 0.70728976 0.37392178 0.27579474]\n",
            " [0.47661234 0.53534177 0.537448   0.84762712 0.71917744 0.73789235\n",
            "  0.         0.09421544 0.39132444 0.47251897]\n",
            " [0.53270091 0.54607727 0.47700407 0.81896085 0.74220808 0.70728976\n",
            "  0.09421544 0.         0.39046345 0.45701738]\n",
            " [0.30441002 0.16091055 0.32183934 0.47549389 0.36737967 0.37392178\n",
            "  0.39132444 0.39046345 0.         0.09972019]\n",
            " [0.38052278 0.15911937 0.25823896 0.3801948  0.35785286 0.27579474\n",
            "  0.47251897 0.45701738 0.09972019 0.        ]]\n"
          ]
        }
      ],
      "source": [
        "Z = np.random.random((10,2))\n",
        "X,Y = np.atleast_2d(Z[:,0], Z[:,1])\n",
        "D = np.sqrt( (X-X.T)**2 + (Y-Y.T)**2)\n",
        "print(D)\n",
        "import scipy\n",
        "import scipy.spatial\n",
        "Z = np.random.random((10,2))\n",
        "D = scipy.spatial.distance.cdist(Z,Z)\n",
        "print(D)\n"
      ]
    },
    {
      "cell_type": "markdown",
      "metadata": {
        "id": "OsoDUFlnWkf6"
      },
      "source": [
        "#### 53. How to convert a float (32 bits) array into an integer (32 bits) in place? \n",
        "(**hint**: astype(copy=False))"
      ]
    },
    {
      "cell_type": "code",
      "execution_count": null,
      "metadata": {
        "id": "230oPpGJWkf6",
        "colab": {
          "base_uri": "https://localhost:8080/"
        },
        "outputId": "f26f17f7-0903-422e-a939-76fb5617841b"
      },
      "outputs": [
        {
          "output_type": "stream",
          "name": "stdout",
          "text": [
            "[0 1 2 3 4 5 6 7 8 9]\n"
          ]
        }
      ],
      "source": [
        "Z = np.arange(10, dtype=np.float32)\n",
        "Z = Z.astype(np.int32, copy=False)\n",
        "print(Z)"
      ]
    },
    {
      "cell_type": "markdown",
      "metadata": {
        "id": "cPBdzqY5Wkf7"
      },
      "source": [
        "#### 54. How to read the following file? (★★☆) \n",
        "(**hint**: np.genfromtxt)"
      ]
    },
    {
      "cell_type": "markdown",
      "metadata": {
        "id": "Blv4LlVGWkf7"
      },
      "source": [
        "```\n",
        "1, 2, 3, 4, 5\n",
        "6,  ,  , 7, 8\n",
        " ,  , 9,10,11\n",
        "```"
      ]
    },
    {
      "cell_type": "code",
      "execution_count": null,
      "metadata": {
        "id": "3kn1SMu5Wkf7",
        "colab": {
          "base_uri": "https://localhost:8080/"
        },
        "outputId": "12346153-ba2e-496f-d55c-0a2b7511f413"
      },
      "outputs": [
        {
          "output_type": "stream",
          "name": "stdout",
          "text": [
            "[[ 1  2  3  4  5]\n",
            " [ 6 -1 -1  7  8]\n",
            " [-1 -1  9 10 11]]\n"
          ]
        },
        {
          "output_type": "stream",
          "name": "stderr",
          "text": [
            "/usr/local/lib/python3.7/dist-packages/ipykernel_launcher.py:5: DeprecationWarning: `np.int` is a deprecated alias for the builtin `int`. To silence this warning, use `int` by itself. Doing this will not modify any behavior and is safe. When replacing `np.int`, you may wish to use e.g. `np.int64` or `np.int32` to specify the precision. If you wish to review your current use, check the release note link for additional information.\n",
            "Deprecated in NumPy 1.20; for more details and guidance: https://numpy.org/devdocs/release/1.20.0-notes.html#deprecations\n",
            "  \"\"\"\n"
          ]
        }
      ],
      "source": [
        "from io import StringIO\n",
        "s = StringIO(\"\"\"1, 2, 3, 4, 5\\n\n",
        "                6,  ,  , 7, 8\\n\n",
        "                 ,  , 9,10,11\\n\"\"\")\n",
        "Z = np.genfromtxt(s, delimiter=\",\", dtype=np.int)\n",
        "print(Z)\n"
      ]
    },
    {
      "cell_type": "markdown",
      "metadata": {
        "id": "JggZ3qA7Wkf8"
      },
      "source": [
        "#### 55. What is the equivalent of enumerate for numpy arrays? (★★☆) \n",
        "(**hint**: np.ndenumerate, np.ndindex)"
      ]
    },
    {
      "cell_type": "code",
      "execution_count": null,
      "metadata": {
        "id": "zM9stWaHWkf-",
        "colab": {
          "base_uri": "https://localhost:8080/"
        },
        "outputId": "a68a12ed-7ff3-41e9-8ca4-90871bf297ff"
      },
      "outputs": [
        {
          "output_type": "stream",
          "name": "stdout",
          "text": [
            "(0, 0) 0\n",
            "(0, 1) 1\n",
            "(0, 2) 2\n",
            "(1, 0) 3\n",
            "(1, 1) 4\n",
            "(1, 2) 5\n",
            "(2, 0) 6\n",
            "(2, 1) 7\n",
            "(2, 2) 8\n",
            "(0, 0) 0\n",
            "(0, 1) 1\n",
            "(0, 2) 2\n",
            "(1, 0) 3\n",
            "(1, 1) 4\n",
            "(1, 2) 5\n",
            "(2, 0) 6\n",
            "(2, 1) 7\n",
            "(2, 2) 8\n"
          ]
        }
      ],
      "source": [
        "Z = np.arange(9).reshape(3,3)\n",
        "for index, value in np.ndenumerate(Z):\n",
        "    print(index, value)\n",
        "for index in np.ndindex(Z.shape):\n",
        "    print(index, Z[index])"
      ]
    },
    {
      "cell_type": "markdown",
      "metadata": {
        "id": "auguKHOxWkf_"
      },
      "source": [
        "#### 56. Generate a generic 2D Gaussian-like array (★★☆) \n",
        "(**hint**: np.meshgrid, np.exp)"
      ]
    },
    {
      "cell_type": "code",
      "execution_count": null,
      "metadata": {
        "id": "L9uzPQHxWkf_",
        "colab": {
          "base_uri": "https://localhost:8080/"
        },
        "outputId": "82ca38ee-a29f-4d6a-936a-907855c6a163"
      },
      "outputs": [
        {
          "output_type": "stream",
          "name": "stdout",
          "text": [
            "[[0.36787944 0.44822088 0.51979489 0.57375342 0.60279818 0.60279818\n",
            "  0.57375342 0.51979489 0.44822088 0.36787944]\n",
            " [0.44822088 0.54610814 0.63331324 0.69905581 0.73444367 0.73444367\n",
            "  0.69905581 0.63331324 0.54610814 0.44822088]\n",
            " [0.51979489 0.63331324 0.73444367 0.81068432 0.85172308 0.85172308\n",
            "  0.81068432 0.73444367 0.63331324 0.51979489]\n",
            " [0.57375342 0.69905581 0.81068432 0.89483932 0.9401382  0.9401382\n",
            "  0.89483932 0.81068432 0.69905581 0.57375342]\n",
            " [0.60279818 0.73444367 0.85172308 0.9401382  0.98773022 0.98773022\n",
            "  0.9401382  0.85172308 0.73444367 0.60279818]\n",
            " [0.60279818 0.73444367 0.85172308 0.9401382  0.98773022 0.98773022\n",
            "  0.9401382  0.85172308 0.73444367 0.60279818]\n",
            " [0.57375342 0.69905581 0.81068432 0.89483932 0.9401382  0.9401382\n",
            "  0.89483932 0.81068432 0.69905581 0.57375342]\n",
            " [0.51979489 0.63331324 0.73444367 0.81068432 0.85172308 0.85172308\n",
            "  0.81068432 0.73444367 0.63331324 0.51979489]\n",
            " [0.44822088 0.54610814 0.63331324 0.69905581 0.73444367 0.73444367\n",
            "  0.69905581 0.63331324 0.54610814 0.44822088]\n",
            " [0.36787944 0.44822088 0.51979489 0.57375342 0.60279818 0.60279818\n",
            "  0.57375342 0.51979489 0.44822088 0.36787944]]\n"
          ]
        }
      ],
      "source": [
        "X, Y = np.meshgrid(np.linspace(-1,1,10), np.linspace(-1,1,10))\n",
        "D = np.sqrt(X*X+Y*Y)\n",
        "sigma, mu = 1.0, 0.0\n",
        "G = np.exp(-( (D-mu)**2 / ( 2.0 * sigma**2 ) ) )\n",
        "print(G)"
      ]
    },
    {
      "cell_type": "markdown",
      "metadata": {
        "id": "VX1A13hYWkgA"
      },
      "source": [
        "#### 57. How to randomly place p elements in a 2D array? (★★☆) \n",
        "(**hint**: np.put, np.random.choice)"
      ]
    },
    {
      "cell_type": "code",
      "execution_count": null,
      "metadata": {
        "id": "PbdvagNUWkgA",
        "colab": {
          "base_uri": "https://localhost:8080/"
        },
        "outputId": "7db3e268-0588-4ee4-da40-53b70d6f234b"
      },
      "outputs": [
        {
          "output_type": "stream",
          "name": "stdout",
          "text": [
            "[[1. 0. 0. 0. 0. 0. 0. 0. 0. 0.]\n",
            " [0. 0. 0. 0. 0. 0. 0. 0. 0. 0.]\n",
            " [0. 0. 0. 0. 0. 0. 0. 0. 0. 0.]\n",
            " [0. 0. 0. 0. 1. 0. 0. 0. 0. 0.]\n",
            " [0. 0. 0. 0. 0. 0. 0. 0. 0. 0.]\n",
            " [0. 0. 1. 0. 0. 0. 0. 0. 0. 0.]\n",
            " [0. 0. 0. 0. 0. 0. 0. 0. 0. 0.]\n",
            " [0. 0. 0. 0. 0. 0. 0. 0. 0. 0.]\n",
            " [0. 0. 0. 0. 0. 0. 0. 0. 0. 0.]\n",
            " [0. 0. 0. 0. 0. 0. 0. 0. 0. 0.]]\n"
          ]
        }
      ],
      "source": [
        "n = 10\n",
        "p = 3\n",
        "Z = np.zeros((n,n))\n",
        "np.put(Z, np.random.choice(range(n*n), p, replace=False),1)\n",
        "print(Z)"
      ]
    },
    {
      "cell_type": "markdown",
      "metadata": {
        "id": "H0x6t73YWkgB"
      },
      "source": [
        "#### 58. Subtract the mean of each row of a matrix (★★☆) \n",
        "(**hint**: mean(axis=,keepdims=))"
      ]
    },
    {
      "cell_type": "code",
      "execution_count": null,
      "metadata": {
        "id": "r4pHuLDtWkgB",
        "colab": {
          "base_uri": "https://localhost:8080/"
        },
        "outputId": "b9c4435e-b9a1-4bc5-f677-924d03962f74"
      },
      "outputs": [
        {
          "output_type": "stream",
          "name": "stdout",
          "text": [
            "[[-0.32257817  0.45314115 -0.39684546 -0.01600619  0.09564128 -0.42755047\n",
            "   0.17779931 -0.09509494  0.45782846  0.07366504]\n",
            " [-0.25621337  0.26181769 -0.11665112 -0.28701277 -0.37683366  0.23556852\n",
            "   0.23902534  0.38962852  0.09019261 -0.17952176]\n",
            " [ 0.17502009  0.30266503 -0.34308559 -0.0173955   0.1006538  -0.04127538\n",
            "   0.30199527 -0.1391519  -0.39895648  0.05953066]\n",
            " [-0.01615363 -0.46618292 -0.10928124  0.19727828 -0.01370311  0.21803207\n",
            "   0.25127711 -0.49863266  0.15931097  0.27805512]\n",
            " [ 0.19877308 -0.4794817   0.19457843 -0.41970257 -0.42360027 -0.16000238\n",
            "   0.4551701   0.26901977  0.45866489 -0.09341935]]\n"
          ]
        }
      ],
      "source": [
        "X = np.random.rand(5, 10)\n",
        "Y = X - X.mean(axis=1, keepdims=True)\n",
        "Y = X - X.mean(axis=1).reshape(-1, 1)\n",
        "print(Y)"
      ]
    },
    {
      "cell_type": "markdown",
      "metadata": {
        "id": "-7qdVTIBWkgC"
      },
      "source": [
        "#### 59. How to sort an array by the nth column? (★★☆) \n",
        "(**hint**: argsort)"
      ]
    },
    {
      "cell_type": "code",
      "execution_count": null,
      "metadata": {
        "id": "VDhXDQRrWkgC",
        "colab": {
          "base_uri": "https://localhost:8080/"
        },
        "outputId": "3f518553-8512-4c44-fcd4-7c2f3713b3fb"
      },
      "outputs": [
        {
          "output_type": "stream",
          "name": "stdout",
          "text": [
            "[[6 1 3]\n",
            " [1 4 6]\n",
            " [7 5 5]]\n",
            "[[6 1 3]\n",
            " [1 4 6]\n",
            " [7 5 5]]\n"
          ]
        }
      ],
      "source": [
        "Z = np.random.randint(0,10,(3,3))\n",
        "print(Z)\n",
        "print(Z[Z[:,1].argsort()])"
      ]
    },
    {
      "cell_type": "markdown",
      "metadata": {
        "id": "YN28lJwkWkgC"
      },
      "source": [
        "#### 60. How to tell if a given 2D array has null columns? (★★☆) \n",
        "(**hint**: any, ~)"
      ]
    },
    {
      "cell_type": "code",
      "execution_count": null,
      "metadata": {
        "id": "5ILn7MSjWkgD",
        "colab": {
          "base_uri": "https://localhost:8080/"
        },
        "outputId": "34115290-3bf3-42d1-cbf0-4d7ee36d0cfb"
      },
      "outputs": [
        {
          "output_type": "stream",
          "name": "stdout",
          "text": [
            "True\n"
          ]
        }
      ],
      "source": [
        "Z = np.random.randint(0,3,(3,10))\n",
        "print((~Z.any(axis=0)).any())"
      ]
    },
    {
      "cell_type": "markdown",
      "metadata": {
        "id": "pWY3lMYAWkgD"
      },
      "source": [
        "#### 61. Find the nearest value from a given value in an array (★★☆) \n",
        "(**hint**: np.abs, argmin, flat)"
      ]
    },
    {
      "cell_type": "code",
      "execution_count": null,
      "metadata": {
        "id": "3l7S7fYIWkgD",
        "colab": {
          "base_uri": "https://localhost:8080/"
        },
        "outputId": "4717a83b-94fc-41e1-8013-7d0f41982cd9"
      },
      "outputs": [
        {
          "output_type": "stream",
          "name": "stdout",
          "text": [
            "0.6162134710729399\n"
          ]
        }
      ],
      "source": [
        "Z = np.random.uniform(0,1,10)\n",
        "z = 0.5\n",
        "m = Z.flat[np.abs(Z - z).argmin()]\n",
        "print(m)"
      ]
    },
    {
      "cell_type": "markdown",
      "metadata": {
        "id": "YsQdENeDWkgE"
      },
      "source": [
        "#### 62. Considering two arrays with shape (1,3) and (3,1), how to compute their sum using an iterator? (★★☆) \n",
        "(**hint**: np.nditer)"
      ]
    },
    {
      "cell_type": "code",
      "execution_count": null,
      "metadata": {
        "id": "QLS411cNWkgE",
        "colab": {
          "base_uri": "https://localhost:8080/"
        },
        "outputId": "0aaeab2e-4383-4fbd-a0ff-9992b4f0d513"
      },
      "outputs": [
        {
          "output_type": "stream",
          "name": "stdout",
          "text": [
            "[[0 1 2]\n",
            " [1 2 3]\n",
            " [2 3 4]]\n"
          ]
        }
      ],
      "source": [
        "A = np.arange(3).reshape(3,1)\n",
        "B = np.arange(3).reshape(1,3)\n",
        "it = np.nditer([A,B,None])\n",
        "for x,y,z in it: z[...] = x + y\n",
        "print(it.operands[2])"
      ]
    },
    {
      "cell_type": "markdown",
      "metadata": {
        "id": "_vxyGKZzWkgE"
      },
      "source": [
        "#### 63. Create an array class that has a name attribute (★★☆) \n",
        "(**hint**: class method)"
      ]
    },
    {
      "cell_type": "code",
      "execution_count": null,
      "metadata": {
        "id": "vHV7g1ykWkgF",
        "colab": {
          "base_uri": "https://localhost:8080/"
        },
        "outputId": "791f16ac-08e3-42ca-c04d-0e96f28e31d2"
      },
      "outputs": [
        {
          "output_type": "stream",
          "name": "stdout",
          "text": [
            "range_10\n"
          ]
        }
      ],
      "source": [
        "class NamedArray(np.ndarray):\n",
        "    def __new__(cls, array, name=\"no name\"):\n",
        "        obj = np.asarray(array).view(cls)\n",
        "        obj.name = name\n",
        "        return obj\n",
        "    def __array_finalize__(self, obj):\n",
        "        if obj is None: return\n",
        "        self.info = getattr(obj, 'name', \"no name\")\n",
        "\n",
        "Z = NamedArray(np.arange(10), \"range_10\")\n",
        "print (Z.name)"
      ]
    },
    {
      "cell_type": "markdown",
      "metadata": {
        "id": "E2BaZOxlWkgF"
      },
      "source": [
        "#### 64. Consider a given vector, how to add 1 to each element indexed by a second vector (be careful with repeated indices)? (★★★) \n",
        "(**hint**: np.bincount | np.add.at)"
      ]
    },
    {
      "cell_type": "code",
      "execution_count": null,
      "metadata": {
        "id": "W3rHiE9IWkgG",
        "colab": {
          "base_uri": "https://localhost:8080/"
        },
        "outputId": "53c38caf-e73e-403d-8bc8-95b405e6c8df"
      },
      "outputs": [
        {
          "output_type": "stream",
          "name": "stdout",
          "text": [
            "[2. 4. 1. 4. 1. 3. 3. 4. 3. 5.]\n",
            "[3. 7. 1. 7. 1. 5. 5. 7. 5. 9.]\n"
          ]
        }
      ],
      "source": [
        "Z = np.ones(10)\n",
        "I = np.random.randint(0,len(Z),20)\n",
        "Z += np.bincount(I, minlength=len(Z))\n",
        "print(Z)\n",
        "np.add.at(Z, I, 1)\n",
        "print(Z)"
      ]
    },
    {
      "cell_type": "markdown",
      "metadata": {
        "id": "cEbHvrhHWkgG"
      },
      "source": [
        "#### 65. How to accumulate elements of a vector (X) to an array (F) based on an index list (I)? (★★★) \n",
        "(**hint**: np.bincount)"
      ]
    },
    {
      "cell_type": "code",
      "execution_count": null,
      "metadata": {
        "id": "7iwOufqBWkgG",
        "colab": {
          "base_uri": "https://localhost:8080/"
        },
        "outputId": "a39048e4-ecb3-4495-f1b8-135c9ee19f32"
      },
      "outputs": [
        {
          "output_type": "stream",
          "name": "stdout",
          "text": [
            "[0. 7. 0. 6. 5. 0. 0. 0. 0. 3.]\n"
          ]
        }
      ],
      "source": [
        "X = [1,2,3,4,5,6]\n",
        "I = [1,3,9,3,4,1]\n",
        "F = np.bincount(I,X)\n",
        "print(F)"
      ]
    },
    {
      "cell_type": "markdown",
      "metadata": {
        "id": "vPW6f5e8WkgH"
      },
      "source": [
        "#### 66. Considering a (w,h,3) image of (dtype=ubyte), compute the number of unique colors (★★★) \n",
        "(**hint**: np.unique)"
      ]
    },
    {
      "cell_type": "code",
      "execution_count": null,
      "metadata": {
        "id": "9Er6SopOWkgH",
        "colab": {
          "base_uri": "https://localhost:8080/"
        },
        "outputId": "e0085e1c-3cd3-4b02-f20e-77f94a99733a"
      },
      "outputs": [
        {
          "output_type": "stream",
          "name": "stdout",
          "text": [
            "8\n"
          ]
        }
      ],
      "source": [
        "w,h = 16,16\n",
        "I = np.random.randint(0,2,(h,w,3)).astype(np.ubyte)\n",
        "F = I[...,0]*(256*256) + I[...,1]*256 +I[...,2]\n",
        "n = len(np.unique(F))\n",
        "print(n)"
      ]
    },
    {
      "cell_type": "markdown",
      "metadata": {
        "id": "u8sDuFzeWkgH"
      },
      "source": [
        "#### 67. Considering a four dimensions array, how to get sum over the last two axis at once? (★★★) \n",
        "(**hint**: sum(axis=(-2,-1)))"
      ]
    },
    {
      "cell_type": "code",
      "execution_count": null,
      "metadata": {
        "id": "8zhXtkcLWkgI",
        "colab": {
          "base_uri": "https://localhost:8080/"
        },
        "outputId": "7092e047-e80d-48fa-b7f3-86e4da9d28b1"
      },
      "outputs": [
        {
          "output_type": "stream",
          "name": "stdout",
          "text": [
            "[[46 62 59 56]\n",
            " [34 57 58 58]\n",
            " [58 66 56 24]]\n",
            "[[46 62 59 56]\n",
            " [34 57 58 58]\n",
            " [58 66 56 24]]\n"
          ]
        }
      ],
      "source": [
        "A = np.random.randint(0,10,(3,4,3,4))\n",
        "sum = A.sum(axis=(-2,-1))\n",
        "print(sum)\n",
        "sum = A.reshape(A.shape[:-2] + (-1,)).sum(axis=-1)\n",
        "print(sum)"
      ]
    },
    {
      "cell_type": "markdown",
      "metadata": {
        "id": "qNIyxu6UWkgI"
      },
      "source": [
        "#### 68. Considering a one-dimensional vector D, how to compute means of subsets of D using a vector S of same size describing subset  indices? (★★★) \n",
        "(**hint**: np.bincount)"
      ]
    },
    {
      "cell_type": "code",
      "execution_count": null,
      "metadata": {
        "id": "R_FfQcLeWkgI",
        "colab": {
          "base_uri": "https://localhost:8080/"
        },
        "outputId": "78832731-165b-4b00-d5d5-4013421c8020"
      },
      "outputs": [
        {
          "output_type": "stream",
          "name": "stdout",
          "text": [
            "[0.40836875 0.64985858 0.4589456  0.32409735 0.39725005 0.47922686\n",
            " 0.50695698 0.48988615 0.62228298 0.52362072]\n"
          ]
        }
      ],
      "source": [
        "D = np.random.uniform(0,1,100)\n",
        "S = np.random.randint(0,10,100)\n",
        "D_sums = np.bincount(S, weights=D)\n",
        "D_counts = np.bincount(S)\n",
        "D_means = D_sums / D_counts\n",
        "print(D_means)\n"
      ]
    },
    {
      "cell_type": "markdown",
      "metadata": {
        "id": "-OdDwBFXWkgJ"
      },
      "source": [
        "#### 69. How to get the diagonal of a dot product? (★★★) \n",
        "(**hint**: np.diag)"
      ]
    },
    {
      "cell_type": "code",
      "execution_count": null,
      "metadata": {
        "id": "mGzEae1AWkgK",
        "colab": {
          "base_uri": "https://localhost:8080/"
        },
        "outputId": "152b9077-0cd3-4454-8b33-03ccaa369aeb"
      },
      "outputs": [
        {
          "output_type": "execute_result",
          "data": {
            "text/plain": [
              "array([1.42801983, 1.37725347, 0.99401128, 1.42866343, 1.13321148])"
            ]
          },
          "metadata": {},
          "execution_count": 64
        }
      ],
      "source": [
        "\n",
        "A = np.random.uniform(0,1,(5,5))\n",
        "B = np.random.uniform(0,1,(5,5))\n",
        "np.diag(np.dot(A, B))\n"
      ]
    },
    {
      "cell_type": "markdown",
      "metadata": {
        "id": "XLih2vhbWkgK"
      },
      "source": [
        "#### 70. Consider the vector \\[1, 2, 3, 4, 5\\], how to build a new vector with 3 consecutive zeros interleaved between each value? (★★★) \n",
        "(**hint**: array\\[::4\\])"
      ]
    },
    {
      "cell_type": "code",
      "execution_count": null,
      "metadata": {
        "id": "NfxDJbZVWkgL",
        "colab": {
          "base_uri": "https://localhost:8080/"
        },
        "outputId": "9773e636-5c9d-486a-d437-41af55cf3fa4"
      },
      "outputs": [
        {
          "output_type": "stream",
          "name": "stdout",
          "text": [
            "[1. 0. 0. 0. 2. 0. 0. 0. 3. 0. 0. 0. 4. 0. 0. 0. 5.]\n"
          ]
        }
      ],
      "source": [
        "Z = np.array([1,2,3,4,5])\n",
        "nz = 3\n",
        "Z0 = np.zeros(len(Z) + (len(Z)-1)*(nz))\n",
        "Z0[::nz+1] = Z\n",
        "print(Z0)"
      ]
    },
    {
      "cell_type": "markdown",
      "metadata": {
        "id": "rQXfNgYSWkgL"
      },
      "source": [
        "#### 71. Consider an array of dimension (5,5,3), how to mulitply it by an array with dimensions (5,5)? (★★★) \n",
        "(**hint**: array\\[:, :, None\\])"
      ]
    },
    {
      "cell_type": "code",
      "execution_count": null,
      "metadata": {
        "collapsed": true,
        "id": "qi78uqycWkgL",
        "colab": {
          "base_uri": "https://localhost:8080/"
        },
        "outputId": "969d9881-c61f-4c7d-e089-63e5fe0f7b51"
      },
      "outputs": [
        {
          "output_type": "stream",
          "name": "stdout",
          "text": [
            "[[[2. 2. 2.]\n",
            "  [2. 2. 2.]\n",
            "  [2. 2. 2.]\n",
            "  [2. 2. 2.]\n",
            "  [2. 2. 2.]]\n",
            "\n",
            " [[2. 2. 2.]\n",
            "  [2. 2. 2.]\n",
            "  [2. 2. 2.]\n",
            "  [2. 2. 2.]\n",
            "  [2. 2. 2.]]\n",
            "\n",
            " [[2. 2. 2.]\n",
            "  [2. 2. 2.]\n",
            "  [2. 2. 2.]\n",
            "  [2. 2. 2.]\n",
            "  [2. 2. 2.]]\n",
            "\n",
            " [[2. 2. 2.]\n",
            "  [2. 2. 2.]\n",
            "  [2. 2. 2.]\n",
            "  [2. 2. 2.]\n",
            "  [2. 2. 2.]]\n",
            "\n",
            " [[2. 2. 2.]\n",
            "  [2. 2. 2.]\n",
            "  [2. 2. 2.]\n",
            "  [2. 2. 2.]\n",
            "  [2. 2. 2.]]]\n"
          ]
        }
      ],
      "source": [
        "A = np.ones((5,5,3))\n",
        "B = 2*np.ones((5,5))\n",
        "print(A * B[:,:,None])"
      ]
    },
    {
      "cell_type": "markdown",
      "metadata": {
        "id": "Qkkvsn0cWkgM"
      },
      "source": [
        "#### 72. How to swap two rows of an array? (★★★) \n",
        "(**hint**: array\\[\\[\\]\\] = array\\[\\[\\]\\])"
      ]
    },
    {
      "cell_type": "code",
      "execution_count": null,
      "metadata": {
        "id": "rBv2qVnWWkgM",
        "colab": {
          "base_uri": "https://localhost:8080/"
        },
        "outputId": "68db80f4-ae0a-4eb0-d96c-56cb447680db"
      },
      "outputs": [
        {
          "output_type": "stream",
          "name": "stdout",
          "text": [
            "[[ 5  6  7  8  9]\n",
            " [ 0  1  2  3  4]\n",
            " [10 11 12 13 14]\n",
            " [15 16 17 18 19]\n",
            " [20 21 22 23 24]]\n"
          ]
        }
      ],
      "source": [
        "A = np.arange(25).reshape(5,5)\n",
        "A[[0,1]] = A[[1,0]]\n",
        "print(A)"
      ]
    },
    {
      "cell_type": "markdown",
      "metadata": {
        "id": "R22yDa60WkgM"
      },
      "source": [
        "#### 73. Consider a set of 10 triplets describing 10 triangles (with shared vertices), find the set of unique line segments composing all the  triangles (★★★) \n",
        "(**hint**: repeat, np.roll, np.sort, view, np.unique)"
      ]
    },
    {
      "cell_type": "code",
      "execution_count": null,
      "metadata": {
        "id": "uSGI9DbCWkgP",
        "colab": {
          "base_uri": "https://localhost:8080/"
        },
        "outputId": "327745d5-c352-43f3-8ce7-a26f0cfeb07d"
      },
      "outputs": [
        {
          "output_type": "stream",
          "name": "stdout",
          "text": [
            "[( 6, 38) ( 6, 44) ( 6, 95) ( 8, 54) ( 8, 89) (15, 74) (15, 82) (20, 29)\n",
            " (20, 56) (29, 56) (38, 39) (38, 93) (38, 95) (39, 74) (39, 93) (42, 54)\n",
            " (42, 68) (44, 95) (54, 68) (54, 89) (61, 84) (61, 85) (74, 74) (74, 82)\n",
            " (84, 85) (87, 94) (87, 95) (94, 95)]\n"
          ]
        }
      ],
      "source": [
        "faces = np.random.randint(0,100,(10,3))\n",
        "F = np.roll(faces.repeat(2,axis=1),-1,axis=1)\n",
        "F = F.reshape(len(F)*3,2)\n",
        "F = np.sort(F,axis=1)\n",
        "G = F.view( dtype=[('p0',F.dtype),('p1',F.dtype)] )\n",
        "G = np.unique(G)\n",
        "print(G)"
      ]
    },
    {
      "cell_type": "markdown",
      "metadata": {
        "id": "qRuv7ZoWWkgQ"
      },
      "source": [
        "#### 74. Given an array C that is a bincount, how to produce an array A such that np.bincount(A) == C? (★★★) \n",
        "(**hint**: np.repeat)"
      ]
    },
    {
      "cell_type": "code",
      "execution_count": null,
      "metadata": {
        "id": "PhRMBQqLWkgQ",
        "colab": {
          "base_uri": "https://localhost:8080/"
        },
        "outputId": "d76da3a0-7d23-4db7-e809-f5b090e8237f"
      },
      "outputs": [
        {
          "output_type": "stream",
          "name": "stdout",
          "text": [
            "[1 1 2 3 4 4 6]\n"
          ]
        }
      ],
      "source": [
        "C = np.bincount([1,1,2,3,4,4,6])\n",
        "A = np.repeat(np.arange(len(C)), C)\n",
        "print(A)"
      ]
    },
    {
      "cell_type": "markdown",
      "metadata": {
        "id": "_CkWkABvWkgQ"
      },
      "source": [
        "#### 75. How to compute averages using a sliding window over an array? (★★★) \n",
        "(**hint**: np.cumsum)"
      ]
    },
    {
      "cell_type": "code",
      "execution_count": null,
      "metadata": {
        "id": "hYHVfIctWkgR",
        "colab": {
          "base_uri": "https://localhost:8080/"
        },
        "outputId": "f4b32f4c-1cc9-46df-fe4c-d2d70a2936af"
      },
      "outputs": [
        {
          "output_type": "stream",
          "name": "stdout",
          "text": [
            "[ 1.  2.  3.  4.  5.  6.  7.  8.  9. 10. 11. 12. 13. 14. 15. 16. 17. 18.]\n"
          ]
        }
      ],
      "source": [
        "def moving_average(a, n=3) :\n",
        "    ret = np.cumsum(a, dtype=float)\n",
        "    ret[n:] = ret[n:] - ret[:-n]\n",
        "    return ret[n - 1:] / n\n",
        "Z = np.arange(20)\n",
        "print(moving_average(Z, n=3))"
      ]
    },
    {
      "cell_type": "markdown",
      "metadata": {
        "id": "wuYpBhR4WkgR"
      },
      "source": [
        "#### 76. Consider a one-dimensional array Z, build a two-dimensional array whose first row is (Z\\[0\\],Z\\[1\\],Z\\[2\\]) and each subsequent row is  shifted by 1 (last row should be (Z\\[-3\\],Z\\[-2\\],Z\\[-1\\]) (★★★) \n",
        "(**hint**: from numpy.lib import stride_tricks)"
      ]
    },
    {
      "cell_type": "code",
      "execution_count": null,
      "metadata": {
        "id": "d37Loe7aWkgR",
        "colab": {
          "base_uri": "https://localhost:8080/"
        },
        "outputId": "d50b8fe6-aee9-4953-d70b-5adea0c85ba1"
      },
      "outputs": [
        {
          "output_type": "stream",
          "name": "stdout",
          "text": [
            "[[0 1 2]\n",
            " [1 2 3]\n",
            " [2 3 4]\n",
            " [3 4 5]\n",
            " [4 5 6]\n",
            " [5 6 7]\n",
            " [6 7 8]\n",
            " [7 8 9]]\n"
          ]
        }
      ],
      "source": [
        "from numpy.lib import stride_tricks\n",
        "def rolling(a, window):\n",
        "    shape = (a.size - window + 1, window)\n",
        "    strides = (a.itemsize, a.itemsize)\n",
        "    return stride_tricks.as_strided(a, shape=shape, strides=strides)\n",
        "Z = rolling(np.arange(10), 3)\n",
        "print(Z)"
      ]
    },
    {
      "cell_type": "markdown",
      "metadata": {
        "id": "K-_BVxf8WkgR"
      },
      "source": [
        "#### 77. How to negate a boolean, or to change the sign of a float inplace? (★★★) \n",
        "(**hint**: np.logical_not, np.negative)"
      ]
    },
    {
      "cell_type": "code",
      "execution_count": null,
      "metadata": {
        "id": "PgRfGZvnWkgR",
        "colab": {
          "base_uri": "https://localhost:8080/"
        },
        "outputId": "2e7df6d7-b80a-4e76-b4c1-3ecb30c7f67f"
      },
      "outputs": [
        {
          "output_type": "execute_result",
          "data": {
            "text/plain": [
              "array([-0.7298688 , -0.71251766, -0.57980459,  0.03507116,  0.13074988,\n",
              "       -0.2545601 , -0.06955979,  0.88530988,  0.81611978, -0.19324466,\n",
              "        0.26832294, -0.43645554, -0.17816479, -0.11681912,  0.15828455,\n",
              "        0.12251054,  0.67192498,  0.16840619, -0.95573703,  0.53292394,\n",
              "       -0.74946967, -0.31697687, -0.0836497 , -0.3165235 , -0.8681292 ,\n",
              "        0.49003688, -0.52149915, -0.58035041, -0.55359849,  0.37202054,\n",
              "       -0.44998848,  0.81551575,  0.21741452, -0.01706277,  0.48506763,\n",
              "       -0.18223216,  0.04291191,  0.90372976,  0.68006691,  0.11154149,\n",
              "        0.15911652, -0.60684395,  0.57190302,  0.89226655, -0.58034493,\n",
              "        0.33330959,  0.86667762, -0.70161543,  0.53790941, -0.8054195 ,\n",
              "        0.25832906, -0.89011374,  0.76153352,  0.20870136,  0.46603614,\n",
              "        0.01883425, -0.75357524, -0.09438869,  0.93421846, -0.40706083,\n",
              "        0.55235989, -0.019061  ,  0.90495478, -0.31159786,  0.87626258,\n",
              "       -0.83828092,  0.87028789,  0.39573913, -0.93562716, -0.15637053,\n",
              "       -0.89080375,  0.95028597,  0.39917952,  0.92744761,  0.30337232,\n",
              "       -0.02956975, -0.34482908, -0.8971851 ,  0.77565744,  0.32037121,\n",
              "       -0.2166943 ,  0.49558645,  0.62770561, -0.88565307, -0.06008522,\n",
              "       -0.57550287, -0.74555731,  0.76371664, -0.92102807, -0.48857695,\n",
              "       -0.59294281, -0.35425683,  0.17628641, -0.11023456, -0.1881876 ,\n",
              "       -0.74436062, -0.97979852, -0.42575728,  0.09558537,  0.85334621])"
            ]
          },
          "metadata": {},
          "execution_count": 72
        }
      ],
      "source": [
        "Z = np.random.randint(0,2,100)\n",
        "np.logical_not(Z, out=Z)\n",
        "\n",
        "Z = np.random.uniform(-1.0,1.0,100)\n",
        "np.negative(Z, out=Z)"
      ]
    },
    {
      "cell_type": "markdown",
      "metadata": {
        "id": "_o7bWwH_WkgS"
      },
      "source": [
        "#### 78. Consider 2 sets of points P0,P1 describing lines (2d) and a point p, how to compute distance from p to each line i  (P0\\[i\\],P1\\[i\\])? (★★★)"
      ]
    },
    {
      "cell_type": "code",
      "execution_count": null,
      "metadata": {
        "id": "J04WnjncWkgS",
        "colab": {
          "base_uri": "https://localhost:8080/"
        },
        "outputId": "c10c95ae-4268-4a34-c3bf-96f37e3f1d6e"
      },
      "outputs": [
        {
          "output_type": "stream",
          "name": "stdout",
          "text": [
            "[6.35448334 4.25062596 6.20157821 1.38073041 6.21705583 5.51294782\n",
            " 0.27350281 9.07191902 2.76694003 3.08206133]\n"
          ]
        }
      ],
      "source": [
        "def distance(P0, P1, p):\n",
        "    T = P1 - P0\n",
        "    L = (T**2).sum(axis=1)\n",
        "    U = -((P0[:,0]-p[...,0])*T[:,0] + (P0[:,1]-p[...,1])*T[:,1]) / L\n",
        "    U = U.reshape(len(U),1)\n",
        "    D = P0 + U*T - p\n",
        "    return np.sqrt((D**2).sum(axis=1))\n",
        "\n",
        "P0 = np.random.uniform(-10,10,(10,2))\n",
        "P1 = np.random.uniform(-10,10,(10,2))\n",
        "p  = np.random.uniform(-10,10,( 1,2))\n",
        "print(distance(P0, P1, p))"
      ]
    },
    {
      "cell_type": "markdown",
      "metadata": {
        "id": "73zM86WtWkgS"
      },
      "source": [
        "#### 79. Consider 2 sets of points P0,P1 describing lines (2d) and a set of points P, how to compute distance from each point j (P\\[j\\]) to each line i (P0\\[i\\],P1\\[i\\])? (★★★)"
      ]
    },
    {
      "cell_type": "code",
      "execution_count": null,
      "metadata": {
        "id": "jMm7bMp9WkgS",
        "colab": {
          "base_uri": "https://localhost:8080/"
        },
        "outputId": "147bfe16-a23b-4c3d-e5d2-21a61e01d87f"
      },
      "outputs": [
        {
          "output_type": "stream",
          "name": "stdout",
          "text": [
            "[[12.14340272  1.04664408  9.78840181  9.48168193 10.05298664  1.52511871\n",
            "   7.29571326  5.08724319  9.98251567  5.39416333]\n",
            " [ 5.18098924 12.54379537  3.57122474  4.28174963  3.04180335 11.06099367\n",
            "   1.14629348  5.61141077  3.83820047  0.74882083]\n",
            " [ 1.2203816  13.77349286  2.87806027  6.07490847  7.22769966 10.73269124\n",
            "   5.30609405 11.26711011  6.04215973  5.62269404]\n",
            " [ 2.62273389 17.86121694  1.30786707  9.65111221  8.07904498 16.02762602\n",
            "   1.09028796  9.66266175  9.21831873  1.22088197]\n",
            " [ 0.23559642  1.24114302  2.20851418  6.1457572   2.26618285  2.1354999\n",
            "   4.70697225  5.43358221  5.8824313  14.46027387]\n",
            " [ 3.82909885  6.23560085  1.78181626  1.67167662  0.6529224   4.05379263\n",
            "   0.68189858  4.36837823  1.81967744  7.10962822]\n",
            " [ 4.90749237 10.74415816  6.83599138  3.50429272  7.03307886  6.59542344\n",
            "   9.28751009 13.13763259  3.82697858 11.46401356]\n",
            " [ 4.76652769 17.57932472  6.24741755 10.08071244 11.72484244 13.85145622\n",
            "   8.65903077 15.55977413 10.17620221  5.78623731]\n",
            " [ 1.96811515  1.86101796  0.40103217  5.71258138  2.73492986  1.04028924\n",
            "   2.89311993  4.25643615  5.59072371 12.36782029]\n",
            " [ 3.72174128  3.9726918   1.52505646  3.84316228  2.17466078  1.63612056\n",
            "   0.95196692  3.61577586  3.91168038  9.04503232]]\n"
          ]
        }
      ],
      "source": [
        "P0 = np.random.uniform(-10, 10, (10,2))\n",
        "P1 = np.random.uniform(-10,10,(10,2))\n",
        "p = np.random.uniform(-10, 10, (10,2))\n",
        "print(np.array([distance(P0,P1,p_i) for p_i in p]))"
      ]
    },
    {
      "cell_type": "markdown",
      "metadata": {
        "id": "L8oqEslJWkgT"
      },
      "source": [
        "#### 80. Consider an arbitrary array, write a function that extract a subpart with a fixed shape and centered on a given element (pad with a `fill` value when necessary) (★★★) \n",
        "(**hint**: minimum, maximum)"
      ]
    },
    {
      "cell_type": "code",
      "execution_count": null,
      "metadata": {
        "id": "dcKkDvkhWkgT",
        "colab": {
          "base_uri": "https://localhost:8080/"
        },
        "outputId": "76aff619-de0c-4d51-9de2-3ddaa5d9b73f"
      },
      "outputs": [
        {
          "output_type": "stream",
          "name": "stdout",
          "text": [
            "[[9 9 6 1 9 5 3 6 5 3]\n",
            " [1 3 9 0 8 9 0 7 2 8]\n",
            " [6 2 8 3 2 8 9 3 7 1]\n",
            " [2 6 7 4 5 9 8 6 9 9]\n",
            " [5 9 4 2 4 2 3 8 3 3]\n",
            " [9 3 2 0 6 1 3 9 9 9]\n",
            " [7 5 8 6 8 8 0 0 4 4]\n",
            " [9 3 6 3 7 2 0 2 1 2]\n",
            " [4 4 5 3 2 1 5 6 8 3]\n",
            " [6 0 7 1 6 7 1 6 9 2]]\n",
            "[[0 0 0 0 0]\n",
            " [0 9 9 6 1]\n",
            " [0 1 3 9 0]\n",
            " [0 6 2 8 3]\n",
            " [0 2 6 7 4]]\n"
          ]
        },
        {
          "output_type": "stream",
          "name": "stderr",
          "text": [
            "/usr/local/lib/python3.7/dist-packages/ipykernel_launcher.py:23: FutureWarning: Using a non-tuple sequence for multidimensional indexing is deprecated; use `arr[tuple(seq)]` instead of `arr[seq]`. In the future this will be interpreted as an array index, `arr[np.array(seq)]`, which will result either in an error or a different result.\n"
          ]
        }
      ],
      "source": [
        "Z = np.random.randint(0,10,(10,10))\n",
        "shape = (5,5)\n",
        "fill  = 0\n",
        "position = (1,1)\n",
        "\n",
        "R = np.ones(shape, dtype=Z.dtype)*fill\n",
        "P  = np.array(list(position)).astype(int)\n",
        "Rs = np.array(list(R.shape)).astype(int)\n",
        "Zs = np.array(list(Z.shape)).astype(int)\n",
        "\n",
        "R_start = np.zeros((len(shape),)).astype(int)\n",
        "R_stop  = np.array(list(shape)).astype(int)\n",
        "Z_start = (P-Rs//2)\n",
        "Z_stop  = (P+Rs//2)+Rs%2\n",
        "\n",
        "R_start = (R_start - np.minimum(Z_start,0)).tolist()\n",
        "Z_start = (np.maximum(Z_start,0)).tolist()\n",
        "R_stop = np.maximum(R_start, (R_stop - np.maximum(Z_stop-Zs,0))).tolist()\n",
        "Z_stop = (np.minimum(Z_stop,Zs)).tolist()\n",
        "\n",
        "r = [slice(start,stop) for start,stop in zip(R_start,R_stop)]\n",
        "z = [slice(start,stop) for start,stop in zip(Z_start,Z_stop)]\n",
        "R[r] = Z[z]\n",
        "print(Z)\n",
        "print(R)"
      ]
    },
    {
      "cell_type": "markdown",
      "metadata": {
        "id": "5mSJTpytWkgT"
      },
      "source": [
        "#### 81. Consider an array Z = \\[1,2,3,4,5,6,7,8,9,10,11,12,13,14\\], how to generate an array R = \\[\\[1,2,3,4\\], \\[2,3,4,5\\], \\[3,4,5,6\\], ..., \\[11,12,13,14\\]\\]? (★★★) \n",
        "(**hint**: stride\\_tricks.as\\_strided)"
      ]
    },
    {
      "cell_type": "code",
      "execution_count": null,
      "metadata": {
        "id": "sZ5vifzKWkgT",
        "colab": {
          "base_uri": "https://localhost:8080/"
        },
        "outputId": "2735bf9e-2a2f-4399-f6bf-ac83fa779133"
      },
      "outputs": [
        {
          "output_type": "stream",
          "name": "stdout",
          "text": [
            "[[ 1  2  3  4]\n",
            " [ 2  3  4  5]\n",
            " [ 3  4  5  6]\n",
            " [ 4  5  6  7]\n",
            " [ 5  6  7  8]\n",
            " [ 6  7  8  9]\n",
            " [ 7  8  9 10]\n",
            " [ 8  9 10 11]\n",
            " [ 9 10 11 12]\n",
            " [10 11 12 13]\n",
            " [11 12 13 14]]\n"
          ]
        }
      ],
      "source": [
        "Z = np.arange(1,15,dtype=np.uint32)\n",
        "R = stride_tricks.as_strided(Z,(11,4),(4,4))\n",
        "print(R)"
      ]
    },
    {
      "cell_type": "markdown",
      "metadata": {
        "id": "PMNHvk1KWkgU"
      },
      "source": [
        "#### 82. Compute a matrix rank (★★★) \n",
        "(**hint**: np.linalg.svd) (suggestion: np.linalg.svd)"
      ]
    },
    {
      "cell_type": "code",
      "execution_count": null,
      "metadata": {
        "id": "PRswDIh1WkgU",
        "colab": {
          "base_uri": "https://localhost:8080/"
        },
        "outputId": "e808abb7-8bc7-4da7-8cab-b50d5998b018"
      },
      "outputs": [
        {
          "output_type": "stream",
          "name": "stdout",
          "text": [
            "10\n"
          ]
        }
      ],
      "source": [
        "Z = np.random.uniform(0,1,(10,10))\n",
        "U, S, V = np.linalg.svd(Z) # Singular Value Decomposition\n",
        "rank = np.sum(S > 1e-10)\n",
        "print(rank)"
      ]
    },
    {
      "cell_type": "markdown",
      "metadata": {
        "id": "IFRWAII9WkgU"
      },
      "source": [
        "#### 83. How to find the most frequent value in an array? \n",
        "(**hint**: np.bincount, argmax)"
      ]
    },
    {
      "cell_type": "code",
      "execution_count": null,
      "metadata": {
        "id": "VYoyxvJlWkgU",
        "colab": {
          "base_uri": "https://localhost:8080/"
        },
        "outputId": "82cb9758-d9af-4660-a833-8665309bb2a6"
      },
      "outputs": [
        {
          "output_type": "stream",
          "name": "stdout",
          "text": [
            "0\n"
          ]
        }
      ],
      "source": [
        "Z = np.random.randint(0,10,50)\n",
        "print(np.bincount(Z).argmax())"
      ]
    },
    {
      "cell_type": "markdown",
      "metadata": {
        "id": "w0ukKh-UWkgV"
      },
      "source": [
        "#### 84. Extract all the contiguous 3x3 blocks from a random 10x10 matrix (★★★) \n",
        "(**hint**: stride\\_tricks.as\\_strided)"
      ]
    },
    {
      "cell_type": "code",
      "execution_count": null,
      "metadata": {
        "id": "XYPeNxJaWkgV",
        "colab": {
          "base_uri": "https://localhost:8080/"
        },
        "outputId": "0d283de3-fbe3-4711-9a2d-364c24ea1884"
      },
      "outputs": [
        {
          "output_type": "stream",
          "name": "stdout",
          "text": [
            "[[[[2 2 4]\n",
            "   [4 3 1]\n",
            "   [3 1 3]]\n",
            "\n",
            "  [[2 4 3]\n",
            "   [3 1 1]\n",
            "   [1 3 2]]\n",
            "\n",
            "  [[4 3 0]\n",
            "   [1 1 1]\n",
            "   [3 2 2]]\n",
            "\n",
            "  [[3 0 0]\n",
            "   [1 1 4]\n",
            "   [2 2 4]]\n",
            "\n",
            "  [[0 0 3]\n",
            "   [1 4 3]\n",
            "   [2 4 3]]\n",
            "\n",
            "  [[0 3 4]\n",
            "   [4 3 1]\n",
            "   [4 3 2]]\n",
            "\n",
            "  [[3 4 4]\n",
            "   [3 1 1]\n",
            "   [3 2 4]]\n",
            "\n",
            "  [[4 4 0]\n",
            "   [1 1 2]\n",
            "   [2 4 4]]]\n",
            "\n",
            "\n",
            " [[[4 3 1]\n",
            "   [3 1 3]\n",
            "   [0 0 0]]\n",
            "\n",
            "  [[3 1 1]\n",
            "   [1 3 2]\n",
            "   [0 0 2]]\n",
            "\n",
            "  [[1 1 1]\n",
            "   [3 2 2]\n",
            "   [0 2 0]]\n",
            "\n",
            "  [[1 1 4]\n",
            "   [2 2 4]\n",
            "   [2 0 4]]\n",
            "\n",
            "  [[1 4 3]\n",
            "   [2 4 3]\n",
            "   [0 4 2]]\n",
            "\n",
            "  [[4 3 1]\n",
            "   [4 3 2]\n",
            "   [4 2 4]]\n",
            "\n",
            "  [[3 1 1]\n",
            "   [3 2 4]\n",
            "   [2 4 2]]\n",
            "\n",
            "  [[1 1 2]\n",
            "   [2 4 4]\n",
            "   [4 2 0]]]\n",
            "\n",
            "\n",
            " [[[3 1 3]\n",
            "   [0 0 0]\n",
            "   [0 1 2]]\n",
            "\n",
            "  [[1 3 2]\n",
            "   [0 0 2]\n",
            "   [1 2 3]]\n",
            "\n",
            "  [[3 2 2]\n",
            "   [0 2 0]\n",
            "   [2 3 1]]\n",
            "\n",
            "  [[2 2 4]\n",
            "   [2 0 4]\n",
            "   [3 1 2]]\n",
            "\n",
            "  [[2 4 3]\n",
            "   [0 4 2]\n",
            "   [1 2 0]]\n",
            "\n",
            "  [[4 3 2]\n",
            "   [4 2 4]\n",
            "   [2 0 1]]\n",
            "\n",
            "  [[3 2 4]\n",
            "   [2 4 2]\n",
            "   [0 1 0]]\n",
            "\n",
            "  [[2 4 4]\n",
            "   [4 2 0]\n",
            "   [1 0 0]]]\n",
            "\n",
            "\n",
            " [[[0 0 0]\n",
            "   [0 1 2]\n",
            "   [2 1 3]]\n",
            "\n",
            "  [[0 0 2]\n",
            "   [1 2 3]\n",
            "   [1 3 4]]\n",
            "\n",
            "  [[0 2 0]\n",
            "   [2 3 1]\n",
            "   [3 4 4]]\n",
            "\n",
            "  [[2 0 4]\n",
            "   [3 1 2]\n",
            "   [4 4 0]]\n",
            "\n",
            "  [[0 4 2]\n",
            "   [1 2 0]\n",
            "   [4 0 2]]\n",
            "\n",
            "  [[4 2 4]\n",
            "   [2 0 1]\n",
            "   [0 2 0]]\n",
            "\n",
            "  [[2 4 2]\n",
            "   [0 1 0]\n",
            "   [2 0 0]]\n",
            "\n",
            "  [[4 2 0]\n",
            "   [1 0 0]\n",
            "   [0 0 4]]]\n",
            "\n",
            "\n",
            " [[[0 1 2]\n",
            "   [2 1 3]\n",
            "   [1 4 0]]\n",
            "\n",
            "  [[1 2 3]\n",
            "   [1 3 4]\n",
            "   [4 0 0]]\n",
            "\n",
            "  [[2 3 1]\n",
            "   [3 4 4]\n",
            "   [0 0 1]]\n",
            "\n",
            "  [[3 1 2]\n",
            "   [4 4 0]\n",
            "   [0 1 2]]\n",
            "\n",
            "  [[1 2 0]\n",
            "   [4 0 2]\n",
            "   [1 2 2]]\n",
            "\n",
            "  [[2 0 1]\n",
            "   [0 2 0]\n",
            "   [2 2 1]]\n",
            "\n",
            "  [[0 1 0]\n",
            "   [2 0 0]\n",
            "   [2 1 3]]\n",
            "\n",
            "  [[1 0 0]\n",
            "   [0 0 4]\n",
            "   [1 3 0]]]\n",
            "\n",
            "\n",
            " [[[2 1 3]\n",
            "   [1 4 0]\n",
            "   [3 2 0]]\n",
            "\n",
            "  [[1 3 4]\n",
            "   [4 0 0]\n",
            "   [2 0 1]]\n",
            "\n",
            "  [[3 4 4]\n",
            "   [0 0 1]\n",
            "   [0 1 4]]\n",
            "\n",
            "  [[4 4 0]\n",
            "   [0 1 2]\n",
            "   [1 4 4]]\n",
            "\n",
            "  [[4 0 2]\n",
            "   [1 2 2]\n",
            "   [4 4 0]]\n",
            "\n",
            "  [[0 2 0]\n",
            "   [2 2 1]\n",
            "   [4 0 0]]\n",
            "\n",
            "  [[2 0 0]\n",
            "   [2 1 3]\n",
            "   [0 0 3]]\n",
            "\n",
            "  [[0 0 4]\n",
            "   [1 3 0]\n",
            "   [0 3 2]]]\n",
            "\n",
            "\n",
            " [[[1 4 0]\n",
            "   [3 2 0]\n",
            "   [3 0 1]]\n",
            "\n",
            "  [[4 0 0]\n",
            "   [2 0 1]\n",
            "   [0 1 4]]\n",
            "\n",
            "  [[0 0 1]\n",
            "   [0 1 4]\n",
            "   [1 4 1]]\n",
            "\n",
            "  [[0 1 2]\n",
            "   [1 4 4]\n",
            "   [4 1 4]]\n",
            "\n",
            "  [[1 2 2]\n",
            "   [4 4 0]\n",
            "   [1 4 4]]\n",
            "\n",
            "  [[2 2 1]\n",
            "   [4 0 0]\n",
            "   [4 4 1]]\n",
            "\n",
            "  [[2 1 3]\n",
            "   [0 0 3]\n",
            "   [4 1 4]]\n",
            "\n",
            "  [[1 3 0]\n",
            "   [0 3 2]\n",
            "   [1 4 0]]]\n",
            "\n",
            "\n",
            " [[[3 2 0]\n",
            "   [3 0 1]\n",
            "   [3 0 0]]\n",
            "\n",
            "  [[2 0 1]\n",
            "   [0 1 4]\n",
            "   [0 0 4]]\n",
            "\n",
            "  [[0 1 4]\n",
            "   [1 4 1]\n",
            "   [0 4 0]]\n",
            "\n",
            "  [[1 4 4]\n",
            "   [4 1 4]\n",
            "   [4 0 4]]\n",
            "\n",
            "  [[4 4 0]\n",
            "   [1 4 4]\n",
            "   [0 4 4]]\n",
            "\n",
            "  [[4 0 0]\n",
            "   [4 4 1]\n",
            "   [4 4 2]]\n",
            "\n",
            "  [[0 0 3]\n",
            "   [4 1 4]\n",
            "   [4 2 4]]\n",
            "\n",
            "  [[0 3 2]\n",
            "   [1 4 0]\n",
            "   [2 4 2]]]]\n"
          ]
        }
      ],
      "source": [
        "Z = np.random.randint(0,5,(10,10))\n",
        "n = 3\n",
        "i = 1 + (Z.shape[0]-3)\n",
        "j = 1 + (Z.shape[1]-3)\n",
        "C = stride_tricks.as_strided(Z, shape=(i, j, n, n), strides=Z.strides + Z.strides)\n",
        "print(C)"
      ]
    },
    {
      "cell_type": "markdown",
      "metadata": {
        "id": "_1RuZgvsWkgV"
      },
      "source": [
        "#### 85. Create a 2D array subclass such that Z\\[i,j\\] == Z\\[j,i\\] (★★★) \n",
        "(**hint**: class method)"
      ]
    },
    {
      "cell_type": "code",
      "execution_count": null,
      "metadata": {
        "id": "PL98dIsoWkgV",
        "colab": {
          "base_uri": "https://localhost:8080/"
        },
        "outputId": "b316321a-d4e2-4966-c19a-7020c6d422f4"
      },
      "outputs": [
        {
          "output_type": "stream",
          "name": "stdout",
          "text": [
            "[[ 2  6  3 12 13]\n",
            " [ 6  6  4  5  9]\n",
            " [ 3  4  2 42 14]\n",
            " [12  5 42  3  7]\n",
            " [13  9 14  7  6]]\n"
          ]
        }
      ],
      "source": [
        "class Symetric(np.ndarray):\n",
        "    def __setitem__(self, index, value):\n",
        "        i,j = index\n",
        "        super(Symetric, self).__setitem__((i,j), value)\n",
        "        super(Symetric, self).__setitem__((j,i), value)\n",
        "\n",
        "def symetric(Z):\n",
        "    return np.asarray(Z + Z.T - np.diag(Z.diagonal())).view(Symetric)\n",
        "\n",
        "S = symetric(np.random.randint(0,10,(5,5)))\n",
        "S[2,3] = 42\n",
        "print(S)"
      ]
    },
    {
      "cell_type": "markdown",
      "metadata": {
        "id": "7EbB9Of8WkgW"
      },
      "source": [
        "#### 86. Consider a set of p matrices wich shape (n,n) and a set of p vectors with shape (n,1). How to compute the sum of of the p matrix products at once? (result has shape (n,1)) (★★★) \n",
        "(**hint**: np.tensordot)"
      ]
    },
    {
      "cell_type": "code",
      "execution_count": null,
      "metadata": {
        "id": "zrbmISb8WkgW",
        "colab": {
          "base_uri": "https://localhost:8080/"
        },
        "outputId": "50cd358c-278b-4c0e-edef-af090cd43bb5"
      },
      "outputs": [
        {
          "output_type": "stream",
          "name": "stdout",
          "text": [
            "[[200.]\n",
            " [200.]\n",
            " [200.]\n",
            " [200.]\n",
            " [200.]\n",
            " [200.]\n",
            " [200.]\n",
            " [200.]\n",
            " [200.]\n",
            " [200.]\n",
            " [200.]\n",
            " [200.]\n",
            " [200.]\n",
            " [200.]\n",
            " [200.]\n",
            " [200.]\n",
            " [200.]\n",
            " [200.]\n",
            " [200.]\n",
            " [200.]]\n"
          ]
        }
      ],
      "source": [
        "p, n = 10, 20\n",
        "M = np.ones((p,n,n))\n",
        "V = np.ones((p,n,1))\n",
        "S = np.tensordot(M, V, axes=[[0, 2], [0, 1]])\n",
        "print(S)\n"
      ]
    },
    {
      "cell_type": "markdown",
      "metadata": {
        "id": "w11f8uzbWkgW"
      },
      "source": [
        "#### 87. Consider a 16x16 array, how to get the block-sum (block size is 4x4)? (★★★) \n",
        "(**hint**: np.add.reduceat)"
      ]
    },
    {
      "cell_type": "code",
      "execution_count": null,
      "metadata": {
        "id": "AT-xiZoaWkgX",
        "colab": {
          "base_uri": "https://localhost:8080/"
        },
        "outputId": "b80d04b0-24dc-420a-86eb-32a99022f152"
      },
      "outputs": [
        {
          "output_type": "stream",
          "name": "stdout",
          "text": [
            "[[16. 16. 16. 16.]\n",
            " [16. 16. 16. 16.]\n",
            " [16. 16. 16. 16.]\n",
            " [16. 16. 16. 16.]]\n"
          ]
        }
      ],
      "source": [
        "Z = np.ones((16,16))\n",
        "k = 4\n",
        "S = np.add.reduceat(np.add.reduceat(Z, np.arange(0, Z.shape[0], k), axis=0),\n",
        "                                       np.arange(0, Z.shape[1], k), axis=1)\n",
        "print(S)"
      ]
    },
    {
      "cell_type": "markdown",
      "metadata": {
        "id": "1qkQU-9QWkgX"
      },
      "source": [
        "#### 88. How to implement the Game of Life using numpy arrays? (★★★)"
      ]
    },
    {
      "cell_type": "code",
      "execution_count": null,
      "metadata": {
        "id": "n3EYALznWkgX",
        "colab": {
          "base_uri": "https://localhost:8080/"
        },
        "outputId": "10991353-47aa-4f4f-c908-1041212fb6f7"
      },
      "outputs": [
        {
          "output_type": "stream",
          "name": "stdout",
          "text": [
            "[[0 0 0 ... 0 0 0]\n",
            " [0 0 0 ... 0 0 0]\n",
            " [0 0 0 ... 0 0 0]\n",
            " ...\n",
            " [0 0 0 ... 0 0 0]\n",
            " [0 0 0 ... 0 0 0]\n",
            " [0 0 0 ... 0 0 0]]\n"
          ]
        }
      ],
      "source": [
        "def iterate(Z):\n",
        "    # Count neighbours\n",
        "    N = (Z[0:-2,0:-2] + Z[0:-2,1:-1] + Z[0:-2,2:] +\n",
        "         Z[1:-1,0:-2]                + Z[1:-1,2:] +\n",
        "         Z[2:  ,0:-2] + Z[2:  ,1:-1] + Z[2:  ,2:])\n",
        "\n",
        "    # Apply rules\n",
        "    birth = (N==3) & (Z[1:-1,1:-1]==0)\n",
        "    survive = ((N==2) | (N==3)) & (Z[1:-1,1:-1]==1)\n",
        "    Z[...] = 0\n",
        "    Z[1:-1,1:-1][birth | survive] = 1\n",
        "    return Z\n",
        "\n",
        "Z = np.random.randint(0,2,(50,50))\n",
        "for i in range(100): Z = iterate(Z)\n",
        "print(Z)"
      ]
    },
    {
      "cell_type": "markdown",
      "metadata": {
        "id": "43_w9PhOWkgY"
      },
      "source": [
        "#### 89. How to get the n largest values of an array (★★★) \n",
        "(**hint**: np.argsort | np.argpartition)"
      ]
    },
    {
      "cell_type": "code",
      "execution_count": null,
      "metadata": {
        "id": "m09YkXDWWkgZ",
        "colab": {
          "base_uri": "https://localhost:8080/"
        },
        "outputId": "3365f646-96a8-4ce1-d6b5-072c10d92957"
      },
      "outputs": [
        {
          "output_type": "stream",
          "name": "stdout",
          "text": [
            "[9995 9996 9997 9998 9999]\n",
            "[9999 9998 9997 9996 9995]\n"
          ]
        }
      ],
      "source": [
        "Z = np.arange(10000)\n",
        "np.random.shuffle(Z)\n",
        "n = 5\n",
        "\n",
        "# Slow\n",
        "print (Z[np.argsort(Z)[-n:]])\n",
        "\n",
        "# Fast\n",
        "print (Z[np.argpartition(-Z,n)[:n]])"
      ]
    },
    {
      "cell_type": "markdown",
      "metadata": {
        "id": "IYFXYXYSWkgZ"
      },
      "source": [
        "#### 90. Given an arbitrary number of vectors, build the cartesian product (every combinations of every item) (★★★) \n",
        "(**hint**: np.indices)"
      ]
    },
    {
      "cell_type": "code",
      "execution_count": null,
      "metadata": {
        "scrolled": true,
        "id": "S9t4w1QUWkgZ",
        "colab": {
          "base_uri": "https://localhost:8080/"
        },
        "outputId": "24fb016f-5471-46c2-ee7f-5559ea87a124"
      },
      "outputs": [
        {
          "output_type": "stream",
          "name": "stdout",
          "text": [
            "[[1 4 6]\n",
            " [1 4 7]\n",
            " [1 5 6]\n",
            " [1 5 7]\n",
            " [2 4 6]\n",
            " [2 4 7]\n",
            " [2 5 6]\n",
            " [2 5 7]\n",
            " [3 4 6]\n",
            " [3 4 7]\n",
            " [3 5 6]\n",
            " [3 5 7]]\n"
          ]
        }
      ],
      "source": [
        "\n",
        "def cartesian(arrays):\n",
        "    arrays = [np.asarray(a) for a in arrays]\n",
        "    shape = (len(x) for x in arrays)\n",
        "\n",
        "    ix = np.indices(shape, dtype=int)\n",
        "    ix = ix.reshape(len(arrays), -1).T\n",
        "\n",
        "    for n, arr in enumerate(arrays):\n",
        "        ix[:, n] = arrays[n][ix[:, n]]\n",
        "\n",
        "    return ix\n",
        "\n",
        "print (cartesian(([1, 2, 3], [4, 5], [6, 7])))"
      ]
    },
    {
      "cell_type": "markdown",
      "metadata": {
        "id": "OH8ytvPOWkga"
      },
      "source": [
        "#### 91. How to create a record array from a regular array? (★★★) \n",
        "(**hint**: np.core.records.fromarrays)"
      ]
    },
    {
      "cell_type": "code",
      "execution_count": null,
      "metadata": {
        "id": "bbIzyR54Wkga",
        "colab": {
          "base_uri": "https://localhost:8080/"
        },
        "outputId": "c665c125-8111-456c-e885-b4a0d855c386"
      },
      "outputs": [
        {
          "output_type": "stream",
          "name": "stdout",
          "text": [
            "[(b'Hello', 2.5, 3) (b'World', 3.6, 2)]\n"
          ]
        }
      ],
      "source": [
        "Z = np.array([(\"Hello\", 2.5, 3),\n",
        "              (\"World\", 3.6, 2)])\n",
        "R = np.core.records.fromarrays(Z.T, \n",
        "                               names='col1, col2, col3',\n",
        "                               formats = 'S8, f8, i8')\n",
        "print(R)"
      ]
    },
    {
      "cell_type": "markdown",
      "metadata": {
        "id": "cr8BGhxGWkgb"
      },
      "source": [
        "#### 92. Consider a large vector Z, compute Z to the power of 3 using 3 different methods (★★★) \n",
        "(**hint**: np.power, \\*, np.einsum)"
      ]
    },
    {
      "cell_type": "code",
      "execution_count": null,
      "metadata": {
        "id": "p4rA41zUWkgb",
        "colab": {
          "base_uri": "https://localhost:8080/",
          "height": 336
        },
        "outputId": "dac6d57d-57fd-4fb8-a06b-a9ebf96893ee"
      },
      "outputs": [
        {
          "output_type": "error",
          "ename": "TypeError",
          "evalue": "ignored",
          "traceback": [
            "\u001b[0;31m---------------------------------------------------------------------------\u001b[0m",
            "\u001b[0;31mTypeError\u001b[0m                                 Traceback (most recent call last)",
            "\u001b[0;32m<ipython-input-87-fb4c2c62f360>\u001b[0m in \u001b[0;36m<module>\u001b[0;34m()\u001b[0m\n\u001b[0;32m----> 1\u001b[0;31m \u001b[0mx\u001b[0m \u001b[0;34m=\u001b[0m \u001b[0mnp\u001b[0m\u001b[0;34m.\u001b[0m\u001b[0mrandom\u001b[0m\u001b[0;34m.\u001b[0m\u001b[0mrand\u001b[0m\u001b[0;34m(\u001b[0m\u001b[0;36m5e7\u001b[0m\u001b[0;34m)\u001b[0m\u001b[0;34m\u001b[0m\u001b[0;34m\u001b[0m\u001b[0m\n\u001b[0m\u001b[1;32m      2\u001b[0m \u001b[0mget_ipython\u001b[0m\u001b[0;34m(\u001b[0m\u001b[0;34m)\u001b[0m\u001b[0;34m.\u001b[0m\u001b[0mmagic\u001b[0m\u001b[0;34m(\u001b[0m\u001b[0;34m'timeit np.power(x,3)'\u001b[0m\u001b[0;34m)\u001b[0m\u001b[0;34m\u001b[0m\u001b[0;34m\u001b[0m\u001b[0m\n\u001b[1;32m      3\u001b[0m \u001b[0mget_ipython\u001b[0m\u001b[0;34m(\u001b[0m\u001b[0;34m)\u001b[0m\u001b[0;34m.\u001b[0m\u001b[0mmagic\u001b[0m\u001b[0;34m(\u001b[0m\u001b[0;34m'timeit x*x*x'\u001b[0m\u001b[0;34m)\u001b[0m\u001b[0;34m\u001b[0m\u001b[0;34m\u001b[0m\u001b[0m\n\u001b[1;32m      4\u001b[0m \u001b[0mget_ipython\u001b[0m\u001b[0;34m(\u001b[0m\u001b[0;34m)\u001b[0m\u001b[0;34m.\u001b[0m\u001b[0mmagic\u001b[0m\u001b[0;34m(\u001b[0m\u001b[0;34m\"timeit np.einsum('i,i,i->i',x,x,x)\"\u001b[0m\u001b[0;34m)\u001b[0m\u001b[0;34m\u001b[0m\u001b[0;34m\u001b[0m\u001b[0m\n",
            "\u001b[0;32mmtrand.pyx\u001b[0m in \u001b[0;36mnumpy.random.mtrand.RandomState.rand\u001b[0;34m()\u001b[0m\n",
            "\u001b[0;32mmtrand.pyx\u001b[0m in \u001b[0;36mnumpy.random.mtrand.RandomState.random_sample\u001b[0;34m()\u001b[0m\n",
            "\u001b[0;32m_common.pyx\u001b[0m in \u001b[0;36mnumpy.random._common.double_fill\u001b[0;34m()\u001b[0m\n",
            "\u001b[0;31mTypeError\u001b[0m: 'float' object cannot be interpreted as an integer"
          ]
        }
      ],
      "source": [
        "x = np.random.rand(5e7)\n",
        "%timeit np.power(x,3)\n",
        "%timeit x*x*x\n",
        "%timeit np.einsum('i,i,i->i',x,x,x)"
      ]
    },
    {
      "cell_type": "markdown",
      "metadata": {
        "id": "izqpazbLWkgc"
      },
      "source": [
        "#### 93. Consider two arrays A and B of shape (8,3) and (2,2). How to find rows of A that contain elements of each row of B regardless of the order of the elements in B? (★★★) \n",
        "(**hint**: np.where)"
      ]
    },
    {
      "cell_type": "code",
      "execution_count": null,
      "metadata": {
        "id": "hcZqu2VmWkgc",
        "colab": {
          "base_uri": "https://localhost:8080/"
        },
        "outputId": "b5fc81ba-8a34-4b28-8aec-c37fd1baa99e"
      },
      "outputs": [
        {
          "output_type": "stream",
          "name": "stdout",
          "text": [
            "[0 5 7]\n"
          ]
        }
      ],
      "source": [
        "A = np.random.randint(0,5,(8,3))\n",
        "B = np.random.randint(0,5,(2,2))\n",
        "\n",
        "C = (A[..., np.newaxis, np.newaxis] == B)\n",
        "rows = np.where(C.any((3,1)).all(1))[0]\n",
        "print(rows)"
      ]
    },
    {
      "cell_type": "markdown",
      "metadata": {
        "id": "qYJXely6Wkgd"
      },
      "source": [
        "#### 94. Considering a 10x3 matrix, extract rows with unequal values (e.g. \\[2,2,3\\]) (★★★)"
      ]
    },
    {
      "cell_type": "code",
      "execution_count": null,
      "metadata": {
        "id": "VRS5k7GkWkgd",
        "colab": {
          "base_uri": "https://localhost:8080/"
        },
        "outputId": "19c8fb91-b2f4-4f48-aa17-15d2bcdc9992"
      },
      "outputs": [
        {
          "output_type": "stream",
          "name": "stdout",
          "text": [
            "[[0 2 1]\n",
            " [4 2 3]\n",
            " [2 4 2]\n",
            " [3 1 3]\n",
            " [3 1 4]\n",
            " [0 0 0]\n",
            " [3 3 2]\n",
            " [1 2 4]\n",
            " [2 2 3]\n",
            " [1 1 3]]\n",
            "[[0 2 1]\n",
            " [4 2 3]\n",
            " [2 4 2]\n",
            " [3 1 3]\n",
            " [3 1 4]\n",
            " [3 3 2]\n",
            " [1 2 4]\n",
            " [2 2 3]\n",
            " [1 1 3]]\n",
            "[[0 2 1]\n",
            " [4 2 3]\n",
            " [2 4 2]\n",
            " [3 1 3]\n",
            " [3 1 4]\n",
            " [3 3 2]\n",
            " [1 2 4]\n",
            " [2 2 3]\n",
            " [1 1 3]]\n"
          ]
        }
      ],
      "source": [
        "Z = np.random.randint(0,5,(10,3))\n",
        "print(Z)\n",
        "E = np.all(Z[:,1:] == Z[:,:-1], axis=1)\n",
        "U = Z[~E]\n",
        "print(U)\n",
        "U = Z[Z.max(axis=1) != Z.min(axis=1),:]\n",
        "print(U)"
      ]
    },
    {
      "cell_type": "markdown",
      "metadata": {
        "id": "R5OeLvdWWkge"
      },
      "source": [
        "#### 95. Convert a vector of ints into a matrix binary representation (★★★) \n",
        "(**hint**: np.unpackbits)"
      ]
    },
    {
      "cell_type": "code",
      "execution_count": null,
      "metadata": {
        "id": "XrKC4TNJWkge",
        "colab": {
          "base_uri": "https://localhost:8080/"
        },
        "outputId": "dfda3b9e-f58b-45a0-cdd6-f374f4f84f6e"
      },
      "outputs": [
        {
          "output_type": "stream",
          "name": "stdout",
          "text": [
            "[[0 0 0 0 0 0 0 0]\n",
            " [0 0 0 0 0 0 0 1]\n",
            " [0 0 0 0 0 0 1 0]\n",
            " [0 0 0 0 0 0 1 1]\n",
            " [0 0 0 0 1 1 1 1]\n",
            " [0 0 0 1 0 0 0 0]\n",
            " [0 0 1 0 0 0 0 0]\n",
            " [0 1 0 0 0 0 0 0]\n",
            " [1 0 0 0 0 0 0 0]]\n",
            "[[0 0 0 0 0 0 0 0]\n",
            " [0 0 0 0 0 0 0 1]\n",
            " [0 0 0 0 0 0 1 0]\n",
            " [0 0 0 0 0 0 1 1]\n",
            " [0 0 0 0 1 1 1 1]\n",
            " [0 0 0 1 0 0 0 0]\n",
            " [0 0 1 0 0 0 0 0]\n",
            " [0 1 0 0 0 0 0 0]\n",
            " [1 0 0 0 0 0 0 0]]\n"
          ]
        }
      ],
      "source": [
        "I = np.array([0, 1, 2, 3, 15, 16, 32, 64, 128])\n",
        "B = ((I.reshape(-1,1) & (2**np.arange(8))) != 0).astype(int)\n",
        "print(B[:,::-1])\n",
        "I = np.array([0, 1, 2, 3, 15, 16, 32, 64, 128], dtype=np.uint8)\n",
        "print(np.unpackbits(I[:, np.newaxis], axis=1))"
      ]
    },
    {
      "cell_type": "markdown",
      "metadata": {
        "id": "rs8Ht6zrWkge"
      },
      "source": [
        "#### 96. Given a two dimensional array, how to extract unique rows? (★★★) \n",
        "(**hint**: np.ascontiguousarray)"
      ]
    },
    {
      "cell_type": "code",
      "execution_count": null,
      "metadata": {
        "id": "La4PGJMMWkgf",
        "colab": {
          "base_uri": "https://localhost:8080/"
        },
        "outputId": "f63af93e-bbb4-42d3-bcf8-1450854e6b46"
      },
      "outputs": [
        {
          "output_type": "stream",
          "name": "stdout",
          "text": [
            "[[0 0 0]\n",
            " [0 1 0]\n",
            " [1 0 1]\n",
            " [1 1 0]\n",
            " [1 1 1]]\n",
            "[[0 0 0]\n",
            " [0 1 0]\n",
            " [1 0 1]\n",
            " [1 1 0]\n",
            " [1 1 1]]\n"
          ]
        }
      ],
      "source": [
        "Z = np.random.randint(0,2,(6,3))\n",
        "T = np.ascontiguousarray(Z).view(np.dtype((np.void, Z.dtype.itemsize * Z.shape[1])))\n",
        "_, idx = np.unique(T, return_index=True)\n",
        "uZ = Z[idx]\n",
        "print(uZ)\n",
        "uZ = np.unique(Z, axis=0)\n",
        "print(uZ)"
      ]
    },
    {
      "cell_type": "markdown",
      "metadata": {
        "id": "qveonXCnWkgf"
      },
      "source": [
        "#### 97. Considering 2 vectors A & B, write the einsum equivalent of inner, outer, sum, and mul function (★★★) \n",
        "(**hint**: np.einsum)"
      ]
    },
    {
      "cell_type": "code",
      "execution_count": null,
      "metadata": {
        "id": "QXf5dKsDWkgg",
        "colab": {
          "base_uri": "https://localhost:8080/"
        },
        "outputId": "3373632f-f8ef-4e6a-d1b4-a2cafc0540a7"
      },
      "outputs": [
        {
          "output_type": "execute_result",
          "data": {
            "text/plain": [
              "array([[0.02227564, 0.08869973, 0.09376833, 0.00630646, 0.06469992,\n",
              "        0.09036228, 0.10994969, 0.00712433, 0.02497702, 0.10331426],\n",
              "       [0.04529989, 0.18038039, 0.19068794, 0.01282486, 0.13157421,\n",
              "        0.18376136, 0.22359446, 0.01448809, 0.05079345, 0.21010061],\n",
              "       [0.00996653, 0.0396859 , 0.04195369, 0.00282163, 0.02894794,\n",
              "        0.04042976, 0.04919353, 0.00318756, 0.01117518, 0.04622471],\n",
              "       [0.06839243, 0.27233292, 0.28789495, 0.01936259, 0.19864682,\n",
              "        0.27743742, 0.33757623, 0.02187369, 0.07668643, 0.31720362],\n",
              "       [0.13506023, 0.53779855, 0.5685302 , 0.03823692, 0.39228446,\n",
              "        0.54787883, 0.66663998, 0.04319579, 0.15143911, 0.62640848],\n",
              "       [0.12106736, 0.4820801 , 0.50962781, 0.0342754 , 0.35164195,\n",
              "        0.49111601, 0.59757295, 0.03872051, 0.1357493 , 0.56150962],\n",
              "       [0.07455345, 0.29686558, 0.3138295 , 0.02110684, 0.21654159,\n",
              "        0.30242991, 0.36798624, 0.02384414, 0.08359461, 0.34577839],\n",
              "       [0.02652551, 0.10562235, 0.11165797, 0.00750964, 0.07704373,\n",
              "        0.10760209, 0.13092649, 0.00848355, 0.02974228, 0.12302512],\n",
              "       [0.17249601, 0.6868647 , 0.7261145 , 0.04883537, 0.50101724,\n",
              "        0.69973901, 0.85141818, 0.05516873, 0.19341475, 0.80003538],\n",
              "       [0.03399336, 0.13535872, 0.14309358, 0.00962387, 0.09873422,\n",
              "        0.13789582, 0.16778686, 0.01087197, 0.03811576, 0.15766098]])"
            ]
          },
          "metadata": {},
          "execution_count": 92
        }
      ],
      "source": [
        "\n",
        "A = np.random.uniform(0,1,10)\n",
        "B = np.random.uniform(0,1,10)\n",
        "\n",
        "np.einsum('i->', A)       # np.sum(A)\n",
        "np.einsum('i,i->i', A, B) # A * B\n",
        "np.einsum('i,i', A, B)    # np.inner(A, B)\n",
        "np.einsum('i,j->ij', A, B)    # np.outer(A, B)"
      ]
    },
    {
      "cell_type": "markdown",
      "metadata": {
        "id": "mN-dOMBdWkgh"
      },
      "source": [
        "#### 98. Considering a path described by two vectors (X,Y), how to sample it using equidistant samples (★★★)? \n",
        "(**hint**: np.cumsum, np.interp)"
      ]
    },
    {
      "cell_type": "code",
      "execution_count": null,
      "metadata": {
        "collapsed": true,
        "id": "_uhjQvDeWkgi"
      },
      "outputs": [],
      "source": [
        "phi = np.arange(0, 10*np.pi, 0.1)\n",
        "a = 1\n",
        "x = a*phi*np.cos(phi)\n",
        "y = a*phi*np.sin(phi)\n",
        "\n",
        "dr = (np.diff(x)**2 + np.diff(y)**2)**.5 # segment lengths\n",
        "r = np.zeros_like(x)\n",
        "r[1:] = np.cumsum(dr)                # integrate path\n",
        "r_int = np.linspace(0, r.max(), 200) # regular spaced path\n",
        "x_int = np.interp(r_int, r, x)       # integrate path\n",
        "y_int = np.interp(r_int, r, y)"
      ]
    },
    {
      "cell_type": "markdown",
      "metadata": {
        "id": "1mcSY-kbWkgj"
      },
      "source": [
        "#### 99. Given an integer n and a 2D array X, select from X the rows which can be interpreted as draws from a multinomial distribution with n degrees, i.e., the rows which only contain integers and which sum to n. (★★★) \n",
        "(**hint**: np.logical\\_and.reduce, np.mod)"
      ]
    },
    {
      "cell_type": "code",
      "execution_count": null,
      "metadata": {
        "id": "IxTXdQ6xWkgj",
        "colab": {
          "base_uri": "https://localhost:8080/"
        },
        "outputId": "d3527fa6-5db8-4a45-c45b-8020bfb6830b"
      },
      "outputs": [
        {
          "output_type": "stream",
          "name": "stdout",
          "text": [
            "[[2. 0. 1. 1.]]\n"
          ]
        }
      ],
      "source": [
        "X = np.asarray([[1.0, 0.0, 3.0, 8.0],\n",
        "                [2.0, 0.0, 1.0, 1.0],\n",
        "                [1.5, 2.5, 1.0, 0.0]])\n",
        "n = 4\n",
        "M = np.logical_and.reduce(np.mod(X, 1) == 0, axis=-1)\n",
        "M &= (X.sum(axis=-1) == n)\n",
        "print(X[M])"
      ]
    },
    {
      "cell_type": "markdown",
      "metadata": {
        "id": "x4S5zq6JWkgk"
      },
      "source": [
        "#### 100. Compute bootstrapped 95% confidence intervals for the mean of a 1D array X (i.e., resample the elements of an array with replacement N times, compute the mean of each sample, and then compute percentiles over the means). (★★★) \n",
        "(**hint**: np.percentile)"
      ]
    },
    {
      "cell_type": "code",
      "execution_count": null,
      "metadata": {
        "id": "xBfzawSmWkgk",
        "colab": {
          "base_uri": "https://localhost:8080/"
        },
        "outputId": "47e7363a-1e87-4f82-abe5-9b2724f4e625"
      },
      "outputs": [
        {
          "output_type": "stream",
          "name": "stdout",
          "text": [
            "[-0.14834631  0.26899689]\n"
          ]
        }
      ],
      "source": [
        "X = np.random.randn(100) # random 1D array\n",
        "N = 1000 # number of bootstrap samples\n",
        "idx = np.random.randint(0, X.size, (N, X.size))\n",
        "means = X[idx].mean(axis=1)\n",
        "confint = np.percentile(means, [2.5, 97.5])\n",
        "print(confint)"
      ]
    }
  ],
  "metadata": {
    "kernelspec": {
      "display_name": "Python 3",
      "language": "python",
      "name": "python3"
    },
    "language_info": {
      "codemirror_mode": {
        "name": "ipython",
        "version": 3
      },
      "file_extension": ".py",
      "mimetype": "text/x-python",
      "name": "python",
      "nbconvert_exporter": "python",
      "pygments_lexer": "ipython3",
      "version": "3.8.3"
    },
    "colab": {
      "name": "Numpy_tasks_afifa.ipynb",
      "provenance": []
    }
  },
  "nbformat": 4,
  "nbformat_minor": 0
}